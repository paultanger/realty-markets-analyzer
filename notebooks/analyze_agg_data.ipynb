{
 "cells": [
  {
   "cell_type": "code",
   "execution_count": 5,
   "metadata": {},
   "outputs": [],
   "source": [
    "import sys\n",
    "sys.path.insert(1, '../src')\n",
    "from classes import data_Agg\n",
    "import numpy as np\n",
    "import pandas as pd\n",
    "import matplotlib.pyplot as plt"
   ]
  },
  {
   "cell_type": "code",
   "execution_count": 17,
   "metadata": {},
   "outputs": [
    {
     "data": {
      "text/plain": [
       "<module 'classes' from '../src/classes.py'>"
      ]
     },
     "execution_count": 17,
     "metadata": {},
     "output_type": "execute_result"
    }
   ],
   "source": [
    "# for testing\n",
    "import importlib\n",
    "importlib.reload(classes)"
   ]
  },
  {
   "cell_type": "code",
   "execution_count": 11,
   "metadata": {},
   "outputs": [
    {
     "name": "stderr",
     "output_type": "stream",
     "text": [
      "/usr/local/anaconda3/envs/realty-market-app/lib/python3.7/site-packages/IPython/core/interactiveshell.py:3072: DtypeWarning: Columns (19) have mixed types.Specify dtype option on import or set low_memory=False.\n",
      "  interactivity=interactivity, compiler=compiler, result=result)\n"
     ]
    }
   ],
   "source": [
    "# read file\n",
    "data = pd.read_csv('../data/prices_CBSA_vaca_construction_pop.csv')"
   ]
  },
  {
   "cell_type": "code",
   "execution_count": 12,
   "metadata": {},
   "outputs": [
    {
     "data": {
      "text/html": [
       "<div>\n",
       "<style scoped>\n",
       "    .dataframe tbody tr th:only-of-type {\n",
       "        vertical-align: middle;\n",
       "    }\n",
       "\n",
       "    .dataframe tbody tr th {\n",
       "        vertical-align: top;\n",
       "    }\n",
       "\n",
       "    .dataframe thead th {\n",
       "        text-align: right;\n",
       "    }\n",
       "</style>\n",
       "<table border=\"1\" class=\"dataframe\">\n",
       "  <thead>\n",
       "    <tr style=\"text-align: right;\">\n",
       "      <th></th>\n",
       "      <th>CBSA</th>\n",
       "      <th>NAME</th>\n",
       "      <th>LSAD</th>\n",
       "      <th>POPESTIMATE2019</th>\n",
       "      <th>ZIP</th>\n",
       "      <th>RegionName</th>\n",
       "      <th>State</th>\n",
       "      <th>City</th>\n",
       "      <th>Metro</th>\n",
       "      <th>CountyName</th>\n",
       "      <th>...</th>\n",
       "      <th>ErrorMargin4</th>\n",
       "      <th>cbsa_code</th>\n",
       "      <th>CSA</th>\n",
       "      <th>Name</th>\n",
       "      <th>Total</th>\n",
       "      <th>unit_1</th>\n",
       "      <th>2 Units</th>\n",
       "      <th>unit_34</th>\n",
       "      <th>unit_5</th>\n",
       "      <th>unit_for_5orMore</th>\n",
       "    </tr>\n",
       "  </thead>\n",
       "  <tbody>\n",
       "    <tr>\n",
       "      <th>0</th>\n",
       "      <td>10420</td>\n",
       "      <td>Akron, OH</td>\n",
       "      <td>Metropolitan Statistical Area</td>\n",
       "      <td>703479</td>\n",
       "      <td>44256</td>\n",
       "      <td>44256</td>\n",
       "      <td>OH</td>\n",
       "      <td>Medina</td>\n",
       "      <td>Cleveland-Elyria</td>\n",
       "      <td>Medina County</td>\n",
       "      <td>...</td>\n",
       "      <td>10.1</td>\n",
       "      <td>10420.0</td>\n",
       "      <td>184.0</td>\n",
       "      <td>Akron, OH                                     ...</td>\n",
       "      <td>945.0</td>\n",
       "      <td>856.0</td>\n",
       "      <td>2.0</td>\n",
       "      <td>32.0</td>\n",
       "      <td>55.0</td>\n",
       "      <td>1.0</td>\n",
       "    </tr>\n",
       "    <tr>\n",
       "      <th>1</th>\n",
       "      <td>10420</td>\n",
       "      <td>Akron, OH</td>\n",
       "      <td>Metropolitan Statistical Area</td>\n",
       "      <td>703479</td>\n",
       "      <td>44256</td>\n",
       "      <td>44256</td>\n",
       "      <td>OH</td>\n",
       "      <td>Medina</td>\n",
       "      <td>Cleveland-Elyria</td>\n",
       "      <td>Medina County</td>\n",
       "      <td>...</td>\n",
       "      <td>10.1</td>\n",
       "      <td>10420.0</td>\n",
       "      <td>184.0</td>\n",
       "      <td>Akron, OH                                     ...</td>\n",
       "      <td>945.0</td>\n",
       "      <td>856.0</td>\n",
       "      <td>2.0</td>\n",
       "      <td>32.0</td>\n",
       "      <td>55.0</td>\n",
       "      <td>1.0</td>\n",
       "    </tr>\n",
       "    <tr>\n",
       "      <th>2</th>\n",
       "      <td>10420</td>\n",
       "      <td>Akron, OH</td>\n",
       "      <td>Metropolitan Statistical Area</td>\n",
       "      <td>703479</td>\n",
       "      <td>44256</td>\n",
       "      <td>44256</td>\n",
       "      <td>OH</td>\n",
       "      <td>Medina</td>\n",
       "      <td>Cleveland-Elyria</td>\n",
       "      <td>Medina County</td>\n",
       "      <td>...</td>\n",
       "      <td>10.1</td>\n",
       "      <td>10420.0</td>\n",
       "      <td>184.0</td>\n",
       "      <td>Akron, OH                                     ...</td>\n",
       "      <td>945.0</td>\n",
       "      <td>856.0</td>\n",
       "      <td>2.0</td>\n",
       "      <td>32.0</td>\n",
       "      <td>55.0</td>\n",
       "      <td>1.0</td>\n",
       "    </tr>\n",
       "    <tr>\n",
       "      <th>3</th>\n",
       "      <td>10420</td>\n",
       "      <td>Akron, OH</td>\n",
       "      <td>Metropolitan Statistical Area</td>\n",
       "      <td>703479</td>\n",
       "      <td>44256</td>\n",
       "      <td>44256</td>\n",
       "      <td>OH</td>\n",
       "      <td>Medina</td>\n",
       "      <td>Cleveland-Elyria</td>\n",
       "      <td>Medina County</td>\n",
       "      <td>...</td>\n",
       "      <td>10.1</td>\n",
       "      <td>10420.0</td>\n",
       "      <td>184.0</td>\n",
       "      <td>Akron, OH                                     ...</td>\n",
       "      <td>945.0</td>\n",
       "      <td>856.0</td>\n",
       "      <td>2.0</td>\n",
       "      <td>32.0</td>\n",
       "      <td>55.0</td>\n",
       "      <td>1.0</td>\n",
       "    </tr>\n",
       "    <tr>\n",
       "      <th>4</th>\n",
       "      <td>10420</td>\n",
       "      <td>Akron, OH</td>\n",
       "      <td>Metropolitan Statistical Area</td>\n",
       "      <td>703479</td>\n",
       "      <td>44256</td>\n",
       "      <td>44256</td>\n",
       "      <td>OH</td>\n",
       "      <td>Medina</td>\n",
       "      <td>Cleveland-Elyria</td>\n",
       "      <td>Medina County</td>\n",
       "      <td>...</td>\n",
       "      <td>10.1</td>\n",
       "      <td>10420.0</td>\n",
       "      <td>184.0</td>\n",
       "      <td>Akron, OH                                     ...</td>\n",
       "      <td>945.0</td>\n",
       "      <td>856.0</td>\n",
       "      <td>2.0</td>\n",
       "      <td>32.0</td>\n",
       "      <td>55.0</td>\n",
       "      <td>1.0</td>\n",
       "    </tr>\n",
       "  </tbody>\n",
       "</table>\n",
       "<p>5 rows × 31 columns</p>\n",
       "</div>"
      ],
      "text/plain": [
       "    CBSA       NAME                           LSAD  POPESTIMATE2019    ZIP  \\\n",
       "0  10420  Akron, OH  Metropolitan Statistical Area           703479  44256   \n",
       "1  10420  Akron, OH  Metropolitan Statistical Area           703479  44256   \n",
       "2  10420  Akron, OH  Metropolitan Statistical Area           703479  44256   \n",
       "3  10420  Akron, OH  Metropolitan Statistical Area           703479  44256   \n",
       "4  10420  Akron, OH  Metropolitan Statistical Area           703479  44256   \n",
       "\n",
       "   RegionName State    City             Metro     CountyName  ...  \\\n",
       "0       44256    OH  Medina  Cleveland-Elyria  Medina County  ...   \n",
       "1       44256    OH  Medina  Cleveland-Elyria  Medina County  ...   \n",
       "2       44256    OH  Medina  Cleveland-Elyria  Medina County  ...   \n",
       "3       44256    OH  Medina  Cleveland-Elyria  Medina County  ...   \n",
       "4       44256    OH  Medina  Cleveland-Elyria  Medina County  ...   \n",
       "\n",
       "  ErrorMargin4  cbsa_code    CSA  \\\n",
       "0         10.1    10420.0  184.0   \n",
       "1         10.1    10420.0  184.0   \n",
       "2         10.1    10420.0  184.0   \n",
       "3         10.1    10420.0  184.0   \n",
       "4         10.1    10420.0  184.0   \n",
       "\n",
       "                                                Name  Total  unit_1  2 Units  \\\n",
       "0  Akron, OH                                     ...  945.0   856.0      2.0   \n",
       "1  Akron, OH                                     ...  945.0   856.0      2.0   \n",
       "2  Akron, OH                                     ...  945.0   856.0      2.0   \n",
       "3  Akron, OH                                     ...  945.0   856.0      2.0   \n",
       "4  Akron, OH                                     ...  945.0   856.0      2.0   \n",
       "\n",
       "   unit_34  unit_5 unit_for_5orMore  \n",
       "0     32.0    55.0              1.0  \n",
       "1     32.0    55.0              1.0  \n",
       "2     32.0    55.0              1.0  \n",
       "3     32.0    55.0              1.0  \n",
       "4     32.0    55.0              1.0  \n",
       "\n",
       "[5 rows x 31 columns]"
      ]
     },
     "execution_count": 12,
     "metadata": {},
     "output_type": "execute_result"
    }
   ],
   "source": [
    "data.head()"
   ]
  },
  {
   "cell_type": "code",
   "execution_count": 18,
   "metadata": {},
   "outputs": [
    {
     "ename": "KeyError",
     "evalue": "'Only a column name can be used for the key in a dtype mappings argument.'",
     "output_type": "error",
     "traceback": [
      "\u001b[0;31m---------------------------------------------------------------------------\u001b[0m",
      "\u001b[0;31mKeyError\u001b[0m                                  Traceback (most recent call last)",
      "\u001b[0;32m<ipython-input-18-06b4837b2a3c>\u001b[0m in \u001b[0;36m<module>\u001b[0;34m\u001b[0m\n\u001b[1;32m      1\u001b[0m \u001b[0;31m# instantiate class object\u001b[0m\u001b[0;34m\u001b[0m\u001b[0;34m\u001b[0m\u001b[0;34m\u001b[0m\u001b[0m\n\u001b[0;32m----> 2\u001b[0;31m \u001b[0mdataobj\u001b[0m \u001b[0;34m=\u001b[0m \u001b[0mdata_Agg\u001b[0m\u001b[0;34m(\u001b[0m\u001b[0mdata\u001b[0m\u001b[0;34m)\u001b[0m\u001b[0;34m\u001b[0m\u001b[0;34m\u001b[0m\u001b[0m\n\u001b[0m",
      "\u001b[0;32m~/Desktop/github/realty-markets-analyzer/src/classes.py\u001b[0m in \u001b[0;36m__init__\u001b[0;34m(self, df)\u001b[0m\n\u001b[1;32m      6\u001b[0m \u001b[0;34m\u001b[0m\u001b[0m\n\u001b[1;32m      7\u001b[0m \u001b[0;32mclass\u001b[0m \u001b[0mdata_Agg\u001b[0m\u001b[0;34m(\u001b[0m\u001b[0mobject\u001b[0m\u001b[0;34m)\u001b[0m\u001b[0;34m:\u001b[0m\u001b[0;34m\u001b[0m\u001b[0;34m\u001b[0m\u001b[0m\n\u001b[0;32m----> 8\u001b[0;31m     '''\n\u001b[0m\u001b[1;32m      9\u001b[0m     \u001b[0minput\u001b[0m\u001b[0;34m:\u001b[0m \u001b[0mpandas\u001b[0m \u001b[0mdataframe\u001b[0m\u001b[0;34m\u001b[0m\u001b[0;34m\u001b[0m\u001b[0m\n\u001b[1;32m     10\u001b[0m     '''\n",
      "\u001b[0;32m/usr/local/anaconda3/envs/realty-market-app/lib/python3.7/site-packages/pandas/core/generic.py\u001b[0m in \u001b[0;36mastype\u001b[0;34m(self, dtype, copy, errors)\u001b[0m\n\u001b[1;32m   5674\u001b[0m                 \u001b[0;32mif\u001b[0m \u001b[0mcol_name\u001b[0m \u001b[0;32mnot\u001b[0m \u001b[0;32min\u001b[0m \u001b[0mself\u001b[0m\u001b[0;34m:\u001b[0m\u001b[0;34m\u001b[0m\u001b[0;34m\u001b[0m\u001b[0m\n\u001b[1;32m   5675\u001b[0m                     raise KeyError(\n\u001b[0;32m-> 5676\u001b[0;31m                         \u001b[0;34m\"Only a column name can be used for the \"\u001b[0m\u001b[0;34m\u001b[0m\u001b[0;34m\u001b[0m\u001b[0m\n\u001b[0m\u001b[1;32m   5677\u001b[0m                         \u001b[0;34m\"key in a dtype mappings argument.\"\u001b[0m\u001b[0;34m\u001b[0m\u001b[0;34m\u001b[0m\u001b[0m\n\u001b[1;32m   5678\u001b[0m                     )\n",
      "\u001b[0;31mKeyError\u001b[0m: 'Only a column name can be used for the key in a dtype mappings argument.'"
     ]
    }
   ],
   "source": [
    "# instantiate class object\n",
    "dataobj = data_Agg(data)"
   ]
  },
  {
   "cell_type": "code",
   "execution_count": 16,
   "metadata": {},
   "outputs": [
    {
     "ename": "NameError",
     "evalue": "name 'dataobj' is not defined",
     "output_type": "error",
     "traceback": [
      "\u001b[0;31m---------------------------------------------------------------------------\u001b[0m",
      "\u001b[0;31mNameError\u001b[0m                                 Traceback (most recent call last)",
      "\u001b[0;32m<ipython-input-16-dbd34fdfeeca>\u001b[0m in \u001b[0;36m<module>\u001b[0;34m\u001b[0m\n\u001b[0;32m----> 1\u001b[0;31m \u001b[0mdataobj\u001b[0m\u001b[0;34m\u001b[0m\u001b[0;34m\u001b[0m\u001b[0m\n\u001b[0m",
      "\u001b[0;31mNameError\u001b[0m: name 'dataobj' is not defined"
     ]
    }
   ],
   "source": [
    "dataobj"
   ]
  },
  {
   "cell_type": "code",
   "execution_count": null,
   "metadata": {},
   "outputs": [],
   "source": []
  }
 ],
 "metadata": {
  "kernelspec": {
   "display_name": "Python 3.7.7 64-bit ('realty-market-app': conda)",
   "language": "python",
   "name": "python37764bitrealtymarketappconda3ffccac6e4f24032a6d069f6889cc08e"
  },
  "language_info": {
   "codemirror_mode": {
    "name": "ipython",
    "version": 3
   },
   "file_extension": ".py",
   "mimetype": "text/x-python",
   "name": "python",
   "nbconvert_exporter": "python",
   "pygments_lexer": "ipython3",
   "version": "3.7.7"
  }
 },
 "nbformat": 4,
 "nbformat_minor": 4
}
