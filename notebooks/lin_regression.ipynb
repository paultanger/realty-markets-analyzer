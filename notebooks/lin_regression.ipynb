{
 "cells": [
  {
   "cell_type": "code",
   "execution_count": 1,
   "metadata": {},
   "outputs": [],
   "source": [
    "import numpy as np\n",
    "import pandas as pd\n",
    "import matplotlib.pyplot as plt\n",
    "import seaborn as sns\n",
    "from scipy import stats\n",
    "import geopandas as gpd\n",
    "from geopandas import GeoDataFrame\n",
    "from mpl_toolkits.axes_grid1 import make_axes_locatable\n",
    "\n",
    "# We are going to use a couple classes to manage our data and methods\n",
    "import sys\n",
    "sys.path.insert(1, '../src')\n",
    "from classes import data, data_un_Agg\n",
    "# until I integrate into class, use this for scatter plots:\n",
    "from functions import scatter, plot_subgroup_hist\n",
    "\n",
    "%matplotlib inline\n",
    "pd.options.display.float_format = '{:,.4f}'.format\n",
    "plt.style.use('seaborn-white')\n",
    "\n",
    "# for testing\n",
    "%load_ext autoreload\n",
    "%autoreload 2"
   ]
  },
  {
   "cell_type": "code",
   "execution_count": 52,
   "metadata": {},
   "outputs": [
    {
     "name": "stderr",
     "output_type": "stream",
     "text": [
      "/usr/local/anaconda3/envs/py377_maps/lib/python3.7/site-packages/IPython/core/interactiveshell.py:3072: DtypeWarning: Columns (19) have mixed types.Specify dtype option on import or set low_memory=False.\n",
      "  interactivity=interactivity, compiler=compiler, result=result)\n"
     ]
    }
   ],
   "source": [
    "full_data = pd.read_csv('../data/prices_CBSA_vaca_construction_pop.csv')"
   ]
  },
  {
   "cell_type": "code",
   "execution_count": 53,
   "metadata": {
    "scrolled": true
   },
   "outputs": [
    {
     "data": {
      "text/html": [
       "<div>\n",
       "<style scoped>\n",
       "    .dataframe tbody tr th:only-of-type {\n",
       "        vertical-align: middle;\n",
       "    }\n",
       "\n",
       "    .dataframe tbody tr th {\n",
       "        vertical-align: top;\n",
       "    }\n",
       "\n",
       "    .dataframe thead th {\n",
       "        text-align: right;\n",
       "    }\n",
       "</style>\n",
       "<table border=\"1\" class=\"dataframe\">\n",
       "  <thead>\n",
       "    <tr style=\"text-align: right;\">\n",
       "      <th></th>\n",
       "      <th>CBSA</th>\n",
       "      <th>NAME</th>\n",
       "      <th>LSAD</th>\n",
       "      <th>POPESTIMATE2019</th>\n",
       "      <th>ZIP</th>\n",
       "      <th>RegionName</th>\n",
       "      <th>State</th>\n",
       "      <th>City</th>\n",
       "      <th>Metro</th>\n",
       "      <th>CountyName</th>\n",
       "      <th>...</th>\n",
       "      <th>ErrorMargin4</th>\n",
       "      <th>cbsa_code</th>\n",
       "      <th>CSA</th>\n",
       "      <th>Name</th>\n",
       "      <th>Total</th>\n",
       "      <th>unit_1</th>\n",
       "      <th>2 Units</th>\n",
       "      <th>unit_34</th>\n",
       "      <th>unit_5</th>\n",
       "      <th>unit_for_5orMore</th>\n",
       "    </tr>\n",
       "  </thead>\n",
       "  <tbody>\n",
       "    <tr>\n",
       "      <th>0</th>\n",
       "      <td>10420</td>\n",
       "      <td>Akron, OH</td>\n",
       "      <td>Metropolitan Statistical Area</td>\n",
       "      <td>703479</td>\n",
       "      <td>44256</td>\n",
       "      <td>44256</td>\n",
       "      <td>OH</td>\n",
       "      <td>Medina</td>\n",
       "      <td>Cleveland-Elyria</td>\n",
       "      <td>Medina County</td>\n",
       "      <td>...</td>\n",
       "      <td>10.1000</td>\n",
       "      <td>10,420.0000</td>\n",
       "      <td>184.0000</td>\n",
       "      <td>Akron, OH                                     ...</td>\n",
       "      <td>945.0000</td>\n",
       "      <td>856.0000</td>\n",
       "      <td>2.0000</td>\n",
       "      <td>32.0000</td>\n",
       "      <td>55.0000</td>\n",
       "      <td>1.0000</td>\n",
       "    </tr>\n",
       "    <tr>\n",
       "      <th>1</th>\n",
       "      <td>10420</td>\n",
       "      <td>Akron, OH</td>\n",
       "      <td>Metropolitan Statistical Area</td>\n",
       "      <td>703479</td>\n",
       "      <td>44256</td>\n",
       "      <td>44256</td>\n",
       "      <td>OH</td>\n",
       "      <td>Medina</td>\n",
       "      <td>Cleveland-Elyria</td>\n",
       "      <td>Medina County</td>\n",
       "      <td>...</td>\n",
       "      <td>10.1000</td>\n",
       "      <td>10,420.0000</td>\n",
       "      <td>184.0000</td>\n",
       "      <td>Akron, OH                                     ...</td>\n",
       "      <td>945.0000</td>\n",
       "      <td>856.0000</td>\n",
       "      <td>2.0000</td>\n",
       "      <td>32.0000</td>\n",
       "      <td>55.0000</td>\n",
       "      <td>1.0000</td>\n",
       "    </tr>\n",
       "    <tr>\n",
       "      <th>2</th>\n",
       "      <td>10420</td>\n",
       "      <td>Akron, OH</td>\n",
       "      <td>Metropolitan Statistical Area</td>\n",
       "      <td>703479</td>\n",
       "      <td>44256</td>\n",
       "      <td>44256</td>\n",
       "      <td>OH</td>\n",
       "      <td>Medina</td>\n",
       "      <td>Cleveland-Elyria</td>\n",
       "      <td>Medina County</td>\n",
       "      <td>...</td>\n",
       "      <td>10.1000</td>\n",
       "      <td>10,420.0000</td>\n",
       "      <td>184.0000</td>\n",
       "      <td>Akron, OH                                     ...</td>\n",
       "      <td>945.0000</td>\n",
       "      <td>856.0000</td>\n",
       "      <td>2.0000</td>\n",
       "      <td>32.0000</td>\n",
       "      <td>55.0000</td>\n",
       "      <td>1.0000</td>\n",
       "    </tr>\n",
       "    <tr>\n",
       "      <th>3</th>\n",
       "      <td>10420</td>\n",
       "      <td>Akron, OH</td>\n",
       "      <td>Metropolitan Statistical Area</td>\n",
       "      <td>703479</td>\n",
       "      <td>44256</td>\n",
       "      <td>44256</td>\n",
       "      <td>OH</td>\n",
       "      <td>Medina</td>\n",
       "      <td>Cleveland-Elyria</td>\n",
       "      <td>Medina County</td>\n",
       "      <td>...</td>\n",
       "      <td>10.1000</td>\n",
       "      <td>10,420.0000</td>\n",
       "      <td>184.0000</td>\n",
       "      <td>Akron, OH                                     ...</td>\n",
       "      <td>945.0000</td>\n",
       "      <td>856.0000</td>\n",
       "      <td>2.0000</td>\n",
       "      <td>32.0000</td>\n",
       "      <td>55.0000</td>\n",
       "      <td>1.0000</td>\n",
       "    </tr>\n",
       "    <tr>\n",
       "      <th>4</th>\n",
       "      <td>10420</td>\n",
       "      <td>Akron, OH</td>\n",
       "      <td>Metropolitan Statistical Area</td>\n",
       "      <td>703479</td>\n",
       "      <td>44256</td>\n",
       "      <td>44256</td>\n",
       "      <td>OH</td>\n",
       "      <td>Medina</td>\n",
       "      <td>Cleveland-Elyria</td>\n",
       "      <td>Medina County</td>\n",
       "      <td>...</td>\n",
       "      <td>10.1000</td>\n",
       "      <td>10,420.0000</td>\n",
       "      <td>184.0000</td>\n",
       "      <td>Akron, OH                                     ...</td>\n",
       "      <td>945.0000</td>\n",
       "      <td>856.0000</td>\n",
       "      <td>2.0000</td>\n",
       "      <td>32.0000</td>\n",
       "      <td>55.0000</td>\n",
       "      <td>1.0000</td>\n",
       "    </tr>\n",
       "  </tbody>\n",
       "</table>\n",
       "<p>5 rows × 31 columns</p>\n",
       "</div>"
      ],
      "text/plain": [
       "    CBSA       NAME                           LSAD  POPESTIMATE2019    ZIP  \\\n",
       "0  10420  Akron, OH  Metropolitan Statistical Area           703479  44256   \n",
       "1  10420  Akron, OH  Metropolitan Statistical Area           703479  44256   \n",
       "2  10420  Akron, OH  Metropolitan Statistical Area           703479  44256   \n",
       "3  10420  Akron, OH  Metropolitan Statistical Area           703479  44256   \n",
       "4  10420  Akron, OH  Metropolitan Statistical Area           703479  44256   \n",
       "\n",
       "   RegionName State    City             Metro     CountyName  ...  \\\n",
       "0       44256    OH  Medina  Cleveland-Elyria  Medina County  ...   \n",
       "1       44256    OH  Medina  Cleveland-Elyria  Medina County  ...   \n",
       "2       44256    OH  Medina  Cleveland-Elyria  Medina County  ...   \n",
       "3       44256    OH  Medina  Cleveland-Elyria  Medina County  ...   \n",
       "4       44256    OH  Medina  Cleveland-Elyria  Medina County  ...   \n",
       "\n",
       "  ErrorMargin4   cbsa_code      CSA  \\\n",
       "0      10.1000 10,420.0000 184.0000   \n",
       "1      10.1000 10,420.0000 184.0000   \n",
       "2      10.1000 10,420.0000 184.0000   \n",
       "3      10.1000 10,420.0000 184.0000   \n",
       "4      10.1000 10,420.0000 184.0000   \n",
       "\n",
       "                                                Name    Total   unit_1  \\\n",
       "0  Akron, OH                                     ... 945.0000 856.0000   \n",
       "1  Akron, OH                                     ... 945.0000 856.0000   \n",
       "2  Akron, OH                                     ... 945.0000 856.0000   \n",
       "3  Akron, OH                                     ... 945.0000 856.0000   \n",
       "4  Akron, OH                                     ... 945.0000 856.0000   \n",
       "\n",
       "   2 Units  unit_34  unit_5 unit_for_5orMore  \n",
       "0   2.0000  32.0000 55.0000           1.0000  \n",
       "1   2.0000  32.0000 55.0000           1.0000  \n",
       "2   2.0000  32.0000 55.0000           1.0000  \n",
       "3   2.0000  32.0000 55.0000           1.0000  \n",
       "4   2.0000  32.0000 55.0000           1.0000  \n",
       "\n",
       "[5 rows x 31 columns]"
      ]
     },
     "execution_count": 53,
     "metadata": {},
     "output_type": "execute_result"
    }
   ],
   "source": [
    "full_data.head()"
   ]
  },
  {
   "cell_type": "code",
   "execution_count": 240,
   "metadata": {},
   "outputs": [
    {
     "data": {
      "text/plain": [
       "CBSA                                                            10420\n",
       "NAME                                                        Akron, OH\n",
       "LSAD                                    Metropolitan Statistical Area\n",
       "POPESTIMATE2019                                                703479\n",
       "ZIP                                                             44256\n",
       "RegionName                                                      44256\n",
       "State                                                              OH\n",
       "City                                                           Medina\n",
       "Metro                                                Cleveland-Elyria\n",
       "CountyName                                              Medina County\n",
       "month_date                                                    2019-01\n",
       "house_price                                              241,373.0000\n",
       "rent_price                                                 1,210.0000\n",
       "cbsa_title                                                  Akron, OH\n",
       "Q1                                                             2.0000\n",
       "ErrorMargin1                                                   4.1000\n",
       "Q2                                                             3.6000\n",
       "ErrorMargin2                                                   6.1000\n",
       "Q3                                                             4.0000\n",
       "ErrorMargin3                                                      5.7\n",
       "Q4                                                            14.2000\n",
       "ErrorMargin4                                                  10.1000\n",
       "cbsa_code                                                 10,420.0000\n",
       "CSA                                                          184.0000\n",
       "Name                Akron, OH                                     ...\n",
       "Total                                                        945.0000\n",
       "unit_1                                                       856.0000\n",
       "2 Units                                                        2.0000\n",
       "unit_34                                                       32.0000\n",
       "unit_5                                                        55.0000\n",
       "unit_for_5orMore                                               1.0000\n",
       "Name: 0, dtype: object"
      ]
     },
     "execution_count": 240,
     "metadata": {},
     "output_type": "execute_result"
    }
   ],
   "source": [
    "full_data.iloc[0,:]"
   ]
  },
  {
   "cell_type": "code",
   "execution_count": 54,
   "metadata": {},
   "outputs": [
    {
     "name": "stdout",
     "output_type": "stream",
     "text": [
      "<class 'pandas.core.frame.DataFrame'>\n",
      "RangeIndex: 39756 entries, 0 to 39755\n",
      "Data columns (total 31 columns):\n",
      " #   Column            Non-Null Count  Dtype  \n",
      "---  ------            --------------  -----  \n",
      " 0   CBSA              39756 non-null  int64  \n",
      " 1   NAME              39756 non-null  object \n",
      " 2   LSAD              39756 non-null  object \n",
      " 3   POPESTIMATE2019   39756 non-null  int64  \n",
      " 4   ZIP               39756 non-null  int64  \n",
      " 5   RegionName        39756 non-null  int64  \n",
      " 6   State             39756 non-null  object \n",
      " 7   City              39756 non-null  object \n",
      " 8   Metro             39756 non-null  object \n",
      " 9   CountyName        39756 non-null  object \n",
      " 10  month_date        39756 non-null  object \n",
      " 11  house_price       39756 non-null  float64\n",
      " 12  rent_price        38901 non-null  float64\n",
      " 13  cbsa_title        36672 non-null  object \n",
      " 14  Q1                36672 non-null  float64\n",
      " 15  ErrorMargin1      36672 non-null  float64\n",
      " 16  Q2                36672 non-null  float64\n",
      " 17  ErrorMargin2      36672 non-null  float64\n",
      " 18  Q3                36672 non-null  float64\n",
      " 19  ErrorMargin3      36672 non-null  object \n",
      " 20  Q4                36672 non-null  float64\n",
      " 21  ErrorMargin4      36672 non-null  float64\n",
      " 22  cbsa_code         36672 non-null  float64\n",
      " 23  CSA               36672 non-null  float64\n",
      " 24  Name              36672 non-null  object \n",
      " 25  Total             36672 non-null  float64\n",
      " 26  unit_1            36672 non-null  float64\n",
      " 27  2 Units           36672 non-null  float64\n",
      " 28  unit_34           36672 non-null  float64\n",
      " 29  unit_5            36672 non-null  float64\n",
      " 30  unit_for_5orMore  36672 non-null  float64\n",
      "dtypes: float64(17), int64(4), object(10)\n",
      "memory usage: 9.4+ MB\n"
     ]
    }
   ],
   "source": [
    "full_data.info()"
   ]
  },
  {
   "cell_type": "code",
   "execution_count": 55,
   "metadata": {},
   "outputs": [
    {
     "data": {
      "text/html": [
       "<div>\n",
       "<style scoped>\n",
       "    .dataframe tbody tr th:only-of-type {\n",
       "        vertical-align: middle;\n",
       "    }\n",
       "\n",
       "    .dataframe tbody tr th {\n",
       "        vertical-align: top;\n",
       "    }\n",
       "\n",
       "    .dataframe thead th {\n",
       "        text-align: right;\n",
       "    }\n",
       "</style>\n",
       "<table border=\"1\" class=\"dataframe\">\n",
       "  <thead>\n",
       "    <tr style=\"text-align: right;\">\n",
       "      <th></th>\n",
       "      <th>CBSA</th>\n",
       "      <th>NAME</th>\n",
       "      <th>LSAD</th>\n",
       "      <th>POPESTIMATE2019</th>\n",
       "      <th>ZIP</th>\n",
       "      <th>RegionName</th>\n",
       "      <th>State</th>\n",
       "      <th>City</th>\n",
       "      <th>Metro</th>\n",
       "      <th>CountyName</th>\n",
       "      <th>...</th>\n",
       "      <th>ErrorMargin4</th>\n",
       "      <th>cbsa_code</th>\n",
       "      <th>CSA</th>\n",
       "      <th>Name</th>\n",
       "      <th>Total</th>\n",
       "      <th>unit_1</th>\n",
       "      <th>2 Units</th>\n",
       "      <th>unit_34</th>\n",
       "      <th>unit_5</th>\n",
       "      <th>unit_for_5orMore</th>\n",
       "    </tr>\n",
       "  </thead>\n",
       "  <tbody>\n",
       "  </tbody>\n",
       "</table>\n",
       "<p>0 rows × 31 columns</p>\n",
       "</div>"
      ],
      "text/plain": [
       "Empty DataFrame\n",
       "Columns: [CBSA, NAME, LSAD, POPESTIMATE2019, ZIP, RegionName, State, City, Metro, CountyName, month_date, house_price, rent_price, cbsa_title, Q1, ErrorMargin1, Q2, ErrorMargin2, Q3, ErrorMargin3, Q4, ErrorMargin4, cbsa_code, CSA, Name, Total, unit_1, 2 Units, unit_34, unit_5, unit_for_5orMore]\n",
       "Index: []\n",
       "\n",
       "[0 rows x 31 columns]"
      ]
     },
     "execution_count": 55,
     "metadata": {},
     "output_type": "execute_result"
    }
   ],
   "source": [
    "full_data[full_data['State'] == 'AK']"
   ]
  },
  {
   "cell_type": "code",
   "execution_count": 56,
   "metadata": {},
   "outputs": [
    {
     "data": {
      "text/plain": [
       "43"
      ]
     },
     "execution_count": 56,
     "metadata": {},
     "output_type": "execute_result"
    }
   ],
   "source": [
    "len(full_data['State'].sort_values().unique())"
   ]
  },
  {
   "cell_type": "code",
   "execution_count": 57,
   "metadata": {},
   "outputs": [
    {
     "data": {
      "text/plain": [
       "array(['AL', 'AR', 'AZ', 'CA', 'CO', 'CT', 'DC', 'DE', 'FL', 'GA', 'HI',\n",
       "       'IA', 'ID', 'IL', 'IN', 'KS', 'KY', 'LA', 'MA', 'MD', 'MI', 'MN',\n",
       "       'MO', 'MS', 'NC', 'NE', 'NH', 'NJ', 'NM', 'NV', 'NY', 'OH', 'OK',\n",
       "       'OR', 'PA', 'RI', 'SC', 'TN', 'TX', 'UT', 'VA', 'WA', 'WI'],\n",
       "      dtype=object)"
      ]
     },
     "execution_count": 57,
     "metadata": {},
     "output_type": "execute_result"
    }
   ],
   "source": [
    "full_data['State'].sort_values().unique()"
   ]
  },
  {
   "cell_type": "code",
   "execution_count": 182,
   "metadata": {},
   "outputs": [],
   "source": [
    "states = set(full_data['State'].sort_values().unique())"
   ]
  },
  {
   "cell_type": "code",
   "execution_count": 183,
   "metadata": {},
   "outputs": [
    {
     "data": {
      "text/plain": [
       "{'AL',\n",
       " 'AR',\n",
       " 'AZ',\n",
       " 'CA',\n",
       " 'CO',\n",
       " 'CT',\n",
       " 'DC',\n",
       " 'DE',\n",
       " 'FL',\n",
       " 'GA',\n",
       " 'HI',\n",
       " 'IA',\n",
       " 'ID',\n",
       " 'IL',\n",
       " 'IN',\n",
       " 'KS',\n",
       " 'KY',\n",
       " 'LA',\n",
       " 'MA',\n",
       " 'MD',\n",
       " 'MI',\n",
       " 'MN',\n",
       " 'MO',\n",
       " 'MS',\n",
       " 'NC',\n",
       " 'NE',\n",
       " 'NH',\n",
       " 'NJ',\n",
       " 'NM',\n",
       " 'NV',\n",
       " 'NY',\n",
       " 'OH',\n",
       " 'OK',\n",
       " 'OR',\n",
       " 'PA',\n",
       " 'RI',\n",
       " 'SC',\n",
       " 'TN',\n",
       " 'TX',\n",
       " 'UT',\n",
       " 'VA',\n",
       " 'WA',\n",
       " 'WI'}"
      ]
     },
     "execution_count": 183,
     "metadata": {},
     "output_type": "execute_result"
    }
   ],
   "source": [
    "states"
   ]
  },
  {
   "cell_type": "code",
   "execution_count": 175,
   "metadata": {},
   "outputs": [],
   "source": [
    "# We are going to use a couple classes to manage our data and methods\n",
    "import sys\n",
    "sys.path.insert(1, '../src')\n",
    "from classes import data, data_un_Agg, data_un_Agg_no_rent"
   ]
  },
  {
   "cell_type": "code",
   "execution_count": 58,
   "metadata": {},
   "outputs": [],
   "source": [
    "dataobj = data_un_Agg(full_data, 2019)"
   ]
  },
  {
   "cell_type": "code",
   "execution_count": 59,
   "metadata": {},
   "outputs": [],
   "source": [
    "agg_zip = dataobj.agg_by_zip()"
   ]
  },
  {
   "cell_type": "code",
   "execution_count": 62,
   "metadata": {},
   "outputs": [],
   "source": [
    "agg_zip = agg_zip.df"
   ]
  },
  {
   "cell_type": "code",
   "execution_count": 80,
   "metadata": {
    "scrolled": true
   },
   "outputs": [
    {
     "name": "stdout",
     "output_type": "stream",
     "text": [
      "<class 'pandas.core.frame.DataFrame'>\n",
      "RangeIndex: 3313 entries, 0 to 3312\n",
      "Data columns (total 15 columns):\n",
      " #   Column              Non-Null Count  Dtype  \n",
      "---  ------              --------------  -----  \n",
      " 0   CBSA                3313 non-null   object \n",
      " 1   CBSA_type           3313 non-null   object \n",
      " 2   CBSA_name           3313 non-null   object \n",
      " 3   zip_code            3313 non-null   object \n",
      " 4   state               3313 non-null   object \n",
      " 5   house_price         3313 non-null   float64\n",
      " 6   house_priceSD       3313 non-null   float64\n",
      " 7   rent_price          3311 non-null   float64\n",
      " 8   rent_priceSD        3310 non-null   float64\n",
      " 9   rent_priceN         3313 non-null   int64  \n",
      " 10  pop_2019_est        3313 non-null   int64  \n",
      " 11  vacancy_pct         3056 non-null   float64\n",
      " 12  construction_19_Q2  3056 non-null   float64\n",
      " 13  rent_pct            3311 non-null   float64\n",
      " 14  rent_CV             3310 non-null   float64\n",
      "dtypes: float64(8), int64(2), object(5)\n",
      "memory usage: 388.4+ KB\n"
     ]
    }
   ],
   "source": [
    "agg_zip.info()"
   ]
  },
  {
   "cell_type": "code",
   "execution_count": 83,
   "metadata": {},
   "outputs": [],
   "source": [
    "agg_zip = agg_zip.dropna(subset=['rent_price'], axis=0).reset_index()"
   ]
  },
  {
   "cell_type": "code",
   "execution_count": 84,
   "metadata": {},
   "outputs": [
    {
     "name": "stdout",
     "output_type": "stream",
     "text": [
      "<class 'pandas.core.frame.DataFrame'>\n",
      "RangeIndex: 3311 entries, 0 to 3310\n",
      "Data columns (total 16 columns):\n",
      " #   Column              Non-Null Count  Dtype  \n",
      "---  ------              --------------  -----  \n",
      " 0   index               3311 non-null   int64  \n",
      " 1   CBSA                3311 non-null   object \n",
      " 2   CBSA_type           3311 non-null   object \n",
      " 3   CBSA_name           3311 non-null   object \n",
      " 4   zip_code            3311 non-null   object \n",
      " 5   state               3311 non-null   object \n",
      " 6   house_price         3311 non-null   float64\n",
      " 7   house_priceSD       3311 non-null   float64\n",
      " 8   rent_price          3311 non-null   float64\n",
      " 9   rent_priceSD        3310 non-null   float64\n",
      " 10  rent_priceN         3311 non-null   int64  \n",
      " 11  pop_2019_est        3311 non-null   int64  \n",
      " 12  vacancy_pct         3054 non-null   float64\n",
      " 13  construction_19_Q2  3054 non-null   float64\n",
      " 14  rent_pct            3311 non-null   float64\n",
      " 15  rent_CV             3310 non-null   float64\n",
      "dtypes: float64(8), int64(3), object(5)\n",
      "memory usage: 414.0+ KB\n"
     ]
    }
   ],
   "source": [
    "agg_zip.info()"
   ]
  },
  {
   "cell_type": "code",
   "execution_count": 166,
   "metadata": {},
   "outputs": [],
   "source": [
    "from sklearn.linear_model import LinearRegression, LassoLarsIC, Ridge, RidgeCV, Lasso, LassoCV, ElasticNetCV\n",
    "from sklearn import metrics, datasets\n",
    "from sklearn.model_selection import train_test_split, cross_validate\n",
    "from sklearn.preprocessing import StandardScaler, MinMaxScaler\n",
    "from scipy.stats import probplot"
   ]
  },
  {
   "cell_type": "code",
   "execution_count": 96,
   "metadata": {},
   "outputs": [],
   "source": [
    "def prediction(df, cols, y, split=0.25):\n",
    "    '''\n",
    "    inputs df, cols of predictors, and y response\n",
    "    runs model\n",
    "    returns model, residuals, yhat, X_train, y_train, X_test, y_test\n",
    "    '''\n",
    "    # default here is 25% in test\n",
    "    X_train, X_test, y_train, y_test = train_test_split(df[cols].to_numpy().reshape(-1, 1), y, test_size=split) # split to test model\n",
    "    model = LinearRegression() # instantiate instance of class\n",
    "    model.fit(X_train, y_train) # fit model\n",
    "    yhat = model.predict(X_test) # use new data in X_test to predict y_test\n",
    "    residuals = y_test - yhat # calc residuals between model and actualy (y_test)\n",
    "    return model, residuals, yhat, X_train, y_train, X_test, y_test"
   ]
  },
  {
   "cell_type": "code",
   "execution_count": 204,
   "metadata": {},
   "outputs": [],
   "source": [
    "# discard outlier rents over $3k\n",
    "agg_zip = agg_zip[agg_zip['rent_price'] < 3500]\n",
    "agg_zip = agg_zip[agg_zip['house_price'] < 1_000_000]"
   ]
  },
  {
   "cell_type": "code",
   "execution_count": 205,
   "metadata": {},
   "outputs": [
    {
     "data": {
      "text/plain": [
       "999233.0"
      ]
     },
     "execution_count": 205,
     "metadata": {},
     "output_type": "execute_result"
    }
   ],
   "source": [
    "agg_zip['house_price'].max()"
   ]
  },
  {
   "cell_type": "code",
   "execution_count": 206,
   "metadata": {
    "scrolled": true
   },
   "outputs": [
    {
     "data": {
      "text/plain": [
       "<matplotlib.axes._subplots.AxesSubplot at 0x7fc080c91610>"
      ]
     },
     "execution_count": 206,
     "metadata": {},
     "output_type": "execute_result"
    },
    {
     "data": {
      "image/png": "[encoded data removed]",
      "text/plain": [
       "<Figure size 432x288 with 1 Axes>"
      ]
     },
     "metadata": {},
     "output_type": "display_data"
    }
   ],
   "source": [
    "agg_zip['house_price'].hist()"
   ]
  },
  {
   "cell_type": "code",
   "execution_count": 207,
   "metadata": {},
   "outputs": [
    {
     "data": {
      "text/plain": [
       "<matplotlib.collections.PathCollection at 0x7fc08197ab90>"
      ]
     },
     "execution_count": 207,
     "metadata": {},
     "output_type": "execute_result"
    },
    {
     "data": {
      "image/png": "[encoded data removed]",
      "text/plain": [
       "<Figure size 432x288 with 1 Axes>"
      ]
     },
     "metadata": {},
     "output_type": "display_data"
    }
   ],
   "source": [
    "plt.scatter(agg_zip['rent_price'], agg_zip['house_price'])"
   ]
  },
  {
   "cell_type": "code",
   "execution_count": 250,
   "metadata": {},
   "outputs": [],
   "source": [
    "y = agg_zip['rent_price'].to_numpy()"
   ]
  },
  {
   "cell_type": "code",
   "execution_count": 209,
   "metadata": {},
   "outputs": [],
   "source": [
    "model, residuals, yhat, X_train, y_train, X_test, y_test = prediction(agg_zip, 'house_price', y, split=0.25)"
   ]
  },
  {
   "cell_type": "code",
   "execution_count": 255,
   "metadata": {},
   "outputs": [
    {
     "data": {
      "text/plain": [
       "(3003, 2)"
      ]
     },
     "execution_count": 255,
     "metadata": {},
     "output_type": "execute_result"
    }
   ],
   "source": [
    "agg_zip[['pop_2019_est', 'house_price']].to_numpy().shape"
   ]
  },
  {
   "cell_type": "code",
   "execution_count": 269,
   "metadata": {},
   "outputs": [],
   "source": [
    "X_train, X_test, y_train, y_test = train_test_split(agg_zip[['pop_2019_est', 'house_price']].to_numpy(), agg_zip[['rent_price']], test_size=0.25) # split to test model\n",
    "model_with_pop = LinearRegression() # instantiate instance of class\n",
    "model_with_pop.fit(X_train, y_train) # fit model\n",
    "yhat = model_with_pop.predict(X_test) # use new data in X_test to predict y_test\n",
    "residuals = y_test - yhat # calc residuals between model and actualy (y_test)"
   ]
  },
  {
   "cell_type": "code",
   "execution_count": 270,
   "metadata": {
    "scrolled": true
   },
   "outputs": [
    {
     "name": "stdout",
     "output_type": "stream",
     "text": [
      "explained_variance: 0.6588\n",
      "r2: 0.6586\n",
      "adj. r2: 0.6577\n",
      "MSE: 76144.926\n",
      "RMSE: 275.9437\n"
     ]
    }
   ],
   "source": [
    "explained_variance, mse, r2, adj_r2 = get_stats(X_test, y_test, yhat)"
   ]
  },
  {
   "cell_type": "code",
   "execution_count": 274,
   "metadata": {},
   "outputs": [],
   "source": [
    "residuals2 = residuals.to_numpy()"
   ]
  },
  {
   "cell_type": "code",
   "execution_count": 284,
   "metadata": {},
   "outputs": [],
   "source": [
    "residuals2 = residuals2.reshape(1,-1)"
   ]
  },
  {
   "cell_type": "code",
   "execution_count": 288,
   "metadata": {},
   "outputs": [
    {
     "data": {
      "text/plain": [
       "array([[170557.33333333],\n",
       "       [200517.        ],\n",
       "       [226508.33333333],\n",
       "       ...,\n",
       "       [132395.83333333],\n",
       "       [185360.58333333],\n",
       "       [179675.33333333]])"
      ]
     },
     "execution_count": 288,
     "metadata": {},
     "output_type": "execute_result"
    }
   ],
   "source": [
    "new_states['house_price'].to_numpy().reshape(-1,1)"
   ]
  },
  {
   "cell_type": "code",
   "execution_count": 289,
   "metadata": {},
   "outputs": [],
   "source": [
    "new_states_rent_predict_pop = model_with_pop.predict(new_states[['pop_2019_est', 'house_price']].to_numpy())"
   ]
  },
  {
   "cell_type": "code",
   "execution_count": 292,
   "metadata": {},
   "outputs": [],
   "source": [
    "new_states_rent_predict = new_states.copy()"
   ]
  },
  {
   "cell_type": "code",
   "execution_count": 294,
   "metadata": {},
   "outputs": [],
   "source": [
    "new_states_rent_predict['rent_price_predict'] = new_states_rent_predict_pop"
   ]
  },
  {
   "cell_type": "code",
   "execution_count": 296,
   "metadata": {},
   "outputs": [],
   "source": [
    "new_states_rent_predict['rent_pct'] = new_states_rent_predict['rent_price_predict'] / new_states_rent_predict['house_price']"
   ]
  },
  {
   "cell_type": "code",
   "execution_count": 297,
   "metadata": {},
   "outputs": [
    {
     "data": {
      "text/html": [
       "<div>\n",
       "<style scoped>\n",
       "    .dataframe tbody tr th:only-of-type {\n",
       "        vertical-align: middle;\n",
       "    }\n",
       "\n",
       "    .dataframe tbody tr th {\n",
       "        vertical-align: top;\n",
       "    }\n",
       "\n",
       "    .dataframe thead th {\n",
       "        text-align: right;\n",
       "    }\n",
       "</style>\n",
       "<table border=\"1\" class=\"dataframe\">\n",
       "  <thead>\n",
       "    <tr style=\"text-align: right;\">\n",
       "      <th></th>\n",
       "      <th>CBSA</th>\n",
       "      <th>CBSA_type</th>\n",
       "      <th>CBSA_name</th>\n",
       "      <th>zip_code</th>\n",
       "      <th>state</th>\n",
       "      <th>house_price</th>\n",
       "      <th>house_priceSD</th>\n",
       "      <th>pop_2019_est</th>\n",
       "      <th>predicted_rent</th>\n",
       "      <th>rent_pct</th>\n",
       "      <th>rent_price_predict</th>\n",
       "    </tr>\n",
       "  </thead>\n",
       "  <tbody>\n",
       "    <tr>\n",
       "      <th>0</th>\n",
       "      <td>10100</td>\n",
       "      <td>Micropolitan Statistical Area</td>\n",
       "      <td>Aberdeen, SD</td>\n",
       "      <td>57401</td>\n",
       "      <td>SD</td>\n",
       "      <td>170,557.3333</td>\n",
       "      <td>813.8851</td>\n",
       "      <td>42668</td>\n",
       "      <td>1,274.7566</td>\n",
       "      <td>0.0071</td>\n",
       "      <td>1,219.0526</td>\n",
       "    </tr>\n",
       "    <tr>\n",
       "      <th>1</th>\n",
       "      <td>10100</td>\n",
       "      <td>Micropolitan Statistical Area</td>\n",
       "      <td>Aberdeen, SD</td>\n",
       "      <td>57426</td>\n",
       "      <td>SD</td>\n",
       "      <td>200,517.0000</td>\n",
       "      <td>4,954.6172</td>\n",
       "      <td>42668</td>\n",
       "      <td>1,331.4446</td>\n",
       "      <td>0.0063</td>\n",
       "      <td>1,270.8753</td>\n",
       "    </tr>\n",
       "    <tr>\n",
       "      <th>2</th>\n",
       "      <td>10100</td>\n",
       "      <td>Micropolitan Statistical Area</td>\n",
       "      <td>Aberdeen, SD</td>\n",
       "      <td>57427</td>\n",
       "      <td>SD</td>\n",
       "      <td>226,508.3333</td>\n",
       "      <td>1,669.6043</td>\n",
       "      <td>42668</td>\n",
       "      <td>1,380.6240</td>\n",
       "      <td>0.0058</td>\n",
       "      <td>1,315.8337</td>\n",
       "    </tr>\n",
       "    <tr>\n",
       "      <th>3</th>\n",
       "      <td>10100</td>\n",
       "      <td>Micropolitan Statistical Area</td>\n",
       "      <td>Aberdeen, SD</td>\n",
       "      <td>57428</td>\n",
       "      <td>SD</td>\n",
       "      <td>65,125.6667</td>\n",
       "      <td>1,323.5861</td>\n",
       "      <td>42668</td>\n",
       "      <td>1,075.2647</td>\n",
       "      <td>0.0159</td>\n",
       "      <td>1,036.6823</td>\n",
       "    </tr>\n",
       "    <tr>\n",
       "      <th>4</th>\n",
       "      <td>10100</td>\n",
       "      <td>Micropolitan Statistical Area</td>\n",
       "      <td>Aberdeen, SD</td>\n",
       "      <td>57432</td>\n",
       "      <td>SD</td>\n",
       "      <td>115,267.5833</td>\n",
       "      <td>2,208.7741</td>\n",
       "      <td>42668</td>\n",
       "      <td>1,170.1404</td>\n",
       "      <td>0.0097</td>\n",
       "      <td>1,123.4152</td>\n",
       "    </tr>\n",
       "  </tbody>\n",
       "</table>\n",
       "</div>"
      ],
      "text/plain": [
       "    CBSA                      CBSA_type     CBSA_name zip_code state  \\\n",
       "0  10100  Micropolitan Statistical Area  Aberdeen, SD    57401    SD   \n",
       "1  10100  Micropolitan Statistical Area  Aberdeen, SD    57426    SD   \n",
       "2  10100  Micropolitan Statistical Area  Aberdeen, SD    57427    SD   \n",
       "3  10100  Micropolitan Statistical Area  Aberdeen, SD    57428    SD   \n",
       "4  10100  Micropolitan Statistical Area  Aberdeen, SD    57432    SD   \n",
       "\n",
       "   house_price  house_priceSD  pop_2019_est  predicted_rent  rent_pct  \\\n",
       "0 170,557.3333       813.8851         42668      1,274.7566    0.0071   \n",
       "1 200,517.0000     4,954.6172         42668      1,331.4446    0.0063   \n",
       "2 226,508.3333     1,669.6043         42668      1,380.6240    0.0058   \n",
       "3  65,125.6667     1,323.5861         42668      1,075.2647    0.0159   \n",
       "4 115,267.5833     2,208.7741         42668      1,170.1404    0.0097   \n",
       "\n",
       "   rent_price_predict  \n",
       "0          1,219.0526  \n",
       "1          1,270.8753  \n",
       "2          1,315.8337  \n",
       "3          1,036.6823  \n",
       "4          1,123.4152  "
      ]
     },
     "execution_count": 297,
     "metadata": {},
     "output_type": "execute_result"
    }
   ],
   "source": [
    "new_states_rent_predict.head()"
   ]
  },
  {
   "cell_type": "code",
   "execution_count": 301,
   "metadata": {},
   "outputs": [],
   "source": [
    "new_states_rent_predict.to_csv('../data/new_states_rent_predict_v3.tsv', sep='\\t')"
   ]
  },
  {
   "cell_type": "code",
   "execution_count": 298,
   "metadata": {},
   "outputs": [],
   "source": [
    "def plot_resid(residuals):\n",
    "    '''\n",
    "    input is predicted y and residuals\n",
    "    returns residual plot\n",
    "    '''\n",
    "    fig, ax = plt.subplots(1,1, figsize=(10,8))\n",
    "    x = np.linspace(0, 1, len(residuals)) # make it the same size\n",
    "    ax.scatter(x, residuals)\n",
    "    ax.axhline(0, linestyle ='--')\n",
    "    #ax.set_xlabel('y predicted HIV diagnoses', size=16)\n",
    "    ax.set_ylabel('residuals (y observed - y predicted)', size=16)\n",
    "    ax.set_title('residual plot', size=18)\n",
    "    #ax.set_ylim((-200,500))\n",
    "    #plt.savefig('../images/residuals.png')\n",
    "    return fig, ax"
   ]
  },
  {
   "cell_type": "code",
   "execution_count": 300,
   "metadata": {},
   "outputs": [
    {
     "data": {
      "text/plain": [
       "(<Figure size 720x576 with 1 Axes>,\n",
       " <matplotlib.axes._subplots.AxesSubplot at 0x7fc08cfa6ed0>)"
      ]
     },
     "execution_count": 300,
     "metadata": {},
     "output_type": "execute_result"
    },
    {
     "data": {
      "image/png": "[encoded data removed]",
      "text/plain": [
       "<Figure size 720x576 with 1 Axes>"
      ]
     },
     "metadata": {},
     "output_type": "display_data"
    }
   ],
   "source": [
    "plot_resid(residuals)"
   ]
  },
  {
   "cell_type": "code",
   "execution_count": 210,
   "metadata": {},
   "outputs": [],
   "source": [
    "def get_stats(X_test, y_true, y_pred):\n",
    "    '''\n",
    "    inputs X, y actual and y predicted\n",
    "    returns useful stats for linear models\n",
    "    '''\n",
    "    explained_variance = metrics.explained_variance_score(y_true, y_pred)\n",
    "    mse = metrics.mean_squared_error(y_true, y_pred) \n",
    "    r2 = metrics.r2_score(y_true, y_pred)\n",
    "    # train.shape[0] is n and # train.shape[1] is p (features or predictors)\n",
    "    adj_r2 = (1 - (1 - r2) * ((X_test.shape[0] - 1) / \n",
    "          (X_test.shape[0] - X_test.shape[1] - 1)))\n",
    "    print(f'explained_variance: {round(explained_variance, 4)}') \n",
    "    print(f'r2: {round(r2,4)}')\n",
    "    print(f'adj. r2: {round(adj_r2,4)}')\n",
    "    print(f'MSE: {round(mse,4)}')\n",
    "    print(f'RMSE: {round(np.sqrt(mse),4)}') # in units of data\n",
    "    return explained_variance, mse, r2, adj_r2"
   ]
  },
  {
   "cell_type": "code",
   "execution_count": 211,
   "metadata": {},
   "outputs": [
    {
     "name": "stdout",
     "output_type": "stream",
     "text": [
      "explained_variance: 0.6213\n",
      "r2: 0.6206\n",
      "adj. r2: 0.6201\n",
      "MSE: 86372.0359\n",
      "RMSE: 293.8912\n"
     ]
    }
   ],
   "source": [
    "explained_variance, mse, r2, adj_r2 = get_stats(X_test, y_test, yhat)"
   ]
  },
  {
   "cell_type": "code",
   "execution_count": 212,
   "metadata": {},
   "outputs": [],
   "source": [
    "def qqplot(residuals):\n",
    "    '''\n",
    "    inputs residuals vector\n",
    "    returns qqplot\n",
    "    '''\n",
    "    fig, ax = plt.subplots(1,1, figsize=(10,8))\n",
    "    probplot(residuals, dist=\"norm\", plot=ax)\n",
    "    #ax.set_xlabel('y predicted HIV diagnoses', size=16)\n",
    "    ax.set_ylabel('observed', size=16)\n",
    "    ax.set_title('qqplot', size=18)\n",
    "    #ax.set_ylim((-200,500))\n",
    "    #plt.savefig('../images/residuals.png')\n",
    "    return fig, ax"
   ]
  },
  {
   "cell_type": "code",
   "execution_count": 213,
   "metadata": {},
   "outputs": [
    {
     "data": {
      "text/plain": [
       "(<Figure size 720x576 with 1 Axes>,\n",
       " <matplotlib.axes._subplots.AxesSubplot at 0x7fc0819f63d0>)"
      ]
     },
     "execution_count": 213,
     "metadata": {},
     "output_type": "execute_result"
    },
    {
     "data": {
      "image/png": "[encoded data removed]",
      "text/plain": [
       "<Figure size 720x576 with 1 Axes>"
      ]
     },
     "metadata": {},
     "output_type": "display_data"
    }
   ],
   "source": [
    "qqplot(residuals)"
   ]
  },
  {
   "cell_type": "code",
   "execution_count": 135,
   "metadata": {},
   "outputs": [],
   "source": [
    "def plot_resid_fitted(yhat, residuals):\n",
    "    '''\n",
    "    input is predicted y and residuals\n",
    "    returns residual plot\n",
    "    '''\n",
    "    fig, ax = plt.subplots(1,1, figsize=(10,8))\n",
    "    ax.scatter(yhat, residuals)\n",
    "    ax.axhline(0, linestyle ='--')\n",
    "    #ax.set_xlabel('y predicted HIV diagnoses', size=16)\n",
    "    ax.set_ylabel('residuals (y observed - y predicted)', size=16)\n",
    "    ax.set_title('residual plot', size=18)\n",
    "    #ax.set_ylim((-200,500))\n",
    "    #plt.savefig('../images/residuals.png')\n",
    "    return fig, ax"
   ]
  },
  {
   "cell_type": "code",
   "execution_count": 214,
   "metadata": {},
   "outputs": [
    {
     "data": {
      "text/plain": [
       "(<Figure size 720x576 with 1 Axes>,\n",
       " <matplotlib.axes._subplots.AxesSubplot at 0x7fc081c38dd0>)"
      ]
     },
     "execution_count": 214,
     "metadata": {},
     "output_type": "execute_result"
    },
    {
     "data": {
      "image/png": "[encoded data removed]",
      "text/plain": [
       "<Figure size 720x576 with 1 Axes>"
      ]
     },
     "metadata": {},
     "output_type": "display_data"
    }
   ],
   "source": [
    "plot_resid_fitted(yhat, residuals)"
   ]
  },
  {
   "cell_type": "code",
   "execution_count": 223,
   "metadata": {},
   "outputs": [
    {
     "data": {
      "text/html": [
       "<div>\n",
       "<style scoped>\n",
       "    .dataframe tbody tr th:only-of-type {\n",
       "        vertical-align: middle;\n",
       "    }\n",
       "\n",
       "    .dataframe tbody tr th {\n",
       "        vertical-align: top;\n",
       "    }\n",
       "\n",
       "    .dataframe thead th {\n",
       "        text-align: right;\n",
       "    }\n",
       "</style>\n",
       "<table border=\"1\" class=\"dataframe\">\n",
       "  <thead>\n",
       "    <tr style=\"text-align: right;\">\n",
       "      <th></th>\n",
       "      <th>CBSA</th>\n",
       "      <th>CBSA_type</th>\n",
       "      <th>CBSA_name</th>\n",
       "      <th>zip_code</th>\n",
       "      <th>state</th>\n",
       "      <th>house_price</th>\n",
       "      <th>house_priceSD</th>\n",
       "      <th>pop_2019_est</th>\n",
       "    </tr>\n",
       "  </thead>\n",
       "  <tbody>\n",
       "    <tr>\n",
       "      <th>0</th>\n",
       "      <td>10100</td>\n",
       "      <td>Micropolitan Statistical Area</td>\n",
       "      <td>Aberdeen, SD</td>\n",
       "      <td>57401</td>\n",
       "      <td>SD</td>\n",
       "      <td>170,557.3333</td>\n",
       "      <td>813.8851</td>\n",
       "      <td>42668</td>\n",
       "    </tr>\n",
       "    <tr>\n",
       "      <th>1</th>\n",
       "      <td>10100</td>\n",
       "      <td>Micropolitan Statistical Area</td>\n",
       "      <td>Aberdeen, SD</td>\n",
       "      <td>57426</td>\n",
       "      <td>SD</td>\n",
       "      <td>200,517.0000</td>\n",
       "      <td>4,954.6172</td>\n",
       "      <td>42668</td>\n",
       "    </tr>\n",
       "    <tr>\n",
       "      <th>2</th>\n",
       "      <td>10100</td>\n",
       "      <td>Micropolitan Statistical Area</td>\n",
       "      <td>Aberdeen, SD</td>\n",
       "      <td>57427</td>\n",
       "      <td>SD</td>\n",
       "      <td>226,508.3333</td>\n",
       "      <td>1,669.6043</td>\n",
       "      <td>42668</td>\n",
       "    </tr>\n",
       "    <tr>\n",
       "      <th>3</th>\n",
       "      <td>10100</td>\n",
       "      <td>Micropolitan Statistical Area</td>\n",
       "      <td>Aberdeen, SD</td>\n",
       "      <td>57428</td>\n",
       "      <td>SD</td>\n",
       "      <td>65,125.6667</td>\n",
       "      <td>1,323.5861</td>\n",
       "      <td>42668</td>\n",
       "    </tr>\n",
       "    <tr>\n",
       "      <th>4</th>\n",
       "      <td>10100</td>\n",
       "      <td>Micropolitan Statistical Area</td>\n",
       "      <td>Aberdeen, SD</td>\n",
       "      <td>57432</td>\n",
       "      <td>SD</td>\n",
       "      <td>115,267.5833</td>\n",
       "      <td>2,208.7741</td>\n",
       "      <td>42668</td>\n",
       "    </tr>\n",
       "    <tr>\n",
       "      <th>...</th>\n",
       "      <td>...</td>\n",
       "      <td>...</td>\n",
       "      <td>...</td>\n",
       "      <td>...</td>\n",
       "      <td>...</td>\n",
       "      <td>...</td>\n",
       "      <td>...</td>\n",
       "      <td>...</td>\n",
       "    </tr>\n",
       "    <tr>\n",
       "      <th>28627</th>\n",
       "      <td>49460</td>\n",
       "      <td>Micropolitan Statistical Area</td>\n",
       "      <td>Yankton, SD</td>\n",
       "      <td>57063</td>\n",
       "      <td>SD</td>\n",
       "      <td>160,487.0833</td>\n",
       "      <td>2,219.7996</td>\n",
       "      <td>22814</td>\n",
       "    </tr>\n",
       "    <tr>\n",
       "      <th>28628</th>\n",
       "      <td>49460</td>\n",
       "      <td>Micropolitan Statistical Area</td>\n",
       "      <td>Yankton, SD</td>\n",
       "      <td>57067</td>\n",
       "      <td>SD</td>\n",
       "      <td>166,658.2500</td>\n",
       "      <td>2,393.5860</td>\n",
       "      <td>22814</td>\n",
       "    </tr>\n",
       "    <tr>\n",
       "      <th>28629</th>\n",
       "      <td>49460</td>\n",
       "      <td>Micropolitan Statistical Area</td>\n",
       "      <td>Yankton, SD</td>\n",
       "      <td>57070</td>\n",
       "      <td>SD</td>\n",
       "      <td>132,395.8333</td>\n",
       "      <td>795.7747</td>\n",
       "      <td>22814</td>\n",
       "    </tr>\n",
       "    <tr>\n",
       "      <th>28630</th>\n",
       "      <td>49460</td>\n",
       "      <td>Micropolitan Statistical Area</td>\n",
       "      <td>Yankton, SD</td>\n",
       "      <td>57072</td>\n",
       "      <td>SD</td>\n",
       "      <td>185,360.5833</td>\n",
       "      <td>1,723.8656</td>\n",
       "      <td>22814</td>\n",
       "    </tr>\n",
       "    <tr>\n",
       "      <th>28631</th>\n",
       "      <td>49460</td>\n",
       "      <td>Micropolitan Statistical Area</td>\n",
       "      <td>Yankton, SD</td>\n",
       "      <td>57078</td>\n",
       "      <td>SD</td>\n",
       "      <td>179,675.3333</td>\n",
       "      <td>1,621.9975</td>\n",
       "      <td>22814</td>\n",
       "    </tr>\n",
       "  </tbody>\n",
       "</table>\n",
       "<p>1404 rows × 8 columns</p>\n",
       "</div>"
      ],
      "text/plain": [
       "        CBSA                      CBSA_type     CBSA_name zip_code state  \\\n",
       "0      10100  Micropolitan Statistical Area  Aberdeen, SD    57401    SD   \n",
       "1      10100  Micropolitan Statistical Area  Aberdeen, SD    57426    SD   \n",
       "2      10100  Micropolitan Statistical Area  Aberdeen, SD    57427    SD   \n",
       "3      10100  Micropolitan Statistical Area  Aberdeen, SD    57428    SD   \n",
       "4      10100  Micropolitan Statistical Area  Aberdeen, SD    57432    SD   \n",
       "...      ...                            ...           ...      ...   ...   \n",
       "28627  49460  Micropolitan Statistical Area   Yankton, SD    57063    SD   \n",
       "28628  49460  Micropolitan Statistical Area   Yankton, SD    57067    SD   \n",
       "28629  49460  Micropolitan Statistical Area   Yankton, SD    57070    SD   \n",
       "28630  49460  Micropolitan Statistical Area   Yankton, SD    57072    SD   \n",
       "28631  49460  Micropolitan Statistical Area   Yankton, SD    57078    SD   \n",
       "\n",
       "       house_price  house_priceSD  pop_2019_est  \n",
       "0     170,557.3333       813.8851         42668  \n",
       "1     200,517.0000     4,954.6172         42668  \n",
       "2     226,508.3333     1,669.6043         42668  \n",
       "3      65,125.6667     1,323.5861         42668  \n",
       "4     115,267.5833     2,208.7741         42668  \n",
       "...            ...            ...           ...  \n",
       "28627 160,487.0833     2,219.7996         22814  \n",
       "28628 166,658.2500     2,393.5860         22814  \n",
       "28629 132,395.8333       795.7747         22814  \n",
       "28630 185,360.5833     1,723.8656         22814  \n",
       "28631 179,675.3333     1,621.9975         22814  \n",
       "\n",
       "[1404 rows x 8 columns]"
      ]
     },
     "execution_count": 223,
     "metadata": {},
     "output_type": "execute_result"
    }
   ],
   "source": [
    "new_states"
   ]
  },
  {
   "cell_type": "code",
   "execution_count": 225,
   "metadata": {},
   "outputs": [],
   "source": [
    "new_states_rent_predict = model.predict(new_states['house_price'].to_numpy().reshape(-1,1))"
   ]
  },
  {
   "cell_type": "code",
   "execution_count": 227,
   "metadata": {},
   "outputs": [
    {
     "data": {
      "text/plain": [
       "979.6392254125036"
      ]
     },
     "execution_count": 227,
     "metadata": {},
     "output_type": "execute_result"
    }
   ],
   "source": [
    "new_states_rent_predict.min()"
   ]
  },
  {
   "cell_type": "code",
   "execution_count": 232,
   "metadata": {},
   "outputs": [
    {
     "name": "stderr",
     "output_type": "stream",
     "text": [
      "/usr/local/anaconda3/envs/py377_maps/lib/python3.7/site-packages/ipykernel_launcher.py:1: SettingWithCopyWarning: \n",
      "A value is trying to be set on a copy of a slice from a DataFrame.\n",
      "Try using .loc[row_indexer,col_indexer] = value instead\n",
      "\n",
      "See the caveats in the documentation: https://pandas.pydata.org/pandas-docs/stable/user_guide/indexing.html#returning-a-view-versus-a-copy\n",
      "  \"\"\"Entry point for launching an IPython kernel.\n"
     ]
    }
   ],
   "source": [
    "new_states['predicted_rent'] = new_states_rent_predict"
   ]
  },
  {
   "cell_type": "code",
   "execution_count": 233,
   "metadata": {},
   "outputs": [
    {
     "data": {
      "text/html": [
       "<div>\n",
       "<style scoped>\n",
       "    .dataframe tbody tr th:only-of-type {\n",
       "        vertical-align: middle;\n",
       "    }\n",
       "\n",
       "    .dataframe tbody tr th {\n",
       "        vertical-align: top;\n",
       "    }\n",
       "\n",
       "    .dataframe thead th {\n",
       "        text-align: right;\n",
       "    }\n",
       "</style>\n",
       "<table border=\"1\" class=\"dataframe\">\n",
       "  <thead>\n",
       "    <tr style=\"text-align: right;\">\n",
       "      <th></th>\n",
       "      <th>CBSA</th>\n",
       "      <th>CBSA_type</th>\n",
       "      <th>CBSA_name</th>\n",
       "      <th>zip_code</th>\n",
       "      <th>state</th>\n",
       "      <th>house_price</th>\n",
       "      <th>house_priceSD</th>\n",
       "      <th>pop_2019_est</th>\n",
       "      <th>predicted_rent</th>\n",
       "    </tr>\n",
       "  </thead>\n",
       "  <tbody>\n",
       "    <tr>\n",
       "      <th>0</th>\n",
       "      <td>10100</td>\n",
       "      <td>Micropolitan Statistical Area</td>\n",
       "      <td>Aberdeen, SD</td>\n",
       "      <td>57401</td>\n",
       "      <td>SD</td>\n",
       "      <td>170,557.3333</td>\n",
       "      <td>813.8851</td>\n",
       "      <td>42668</td>\n",
       "      <td>1,274.7566</td>\n",
       "    </tr>\n",
       "    <tr>\n",
       "      <th>1</th>\n",
       "      <td>10100</td>\n",
       "      <td>Micropolitan Statistical Area</td>\n",
       "      <td>Aberdeen, SD</td>\n",
       "      <td>57426</td>\n",
       "      <td>SD</td>\n",
       "      <td>200,517.0000</td>\n",
       "      <td>4,954.6172</td>\n",
       "      <td>42668</td>\n",
       "      <td>1,331.4446</td>\n",
       "    </tr>\n",
       "    <tr>\n",
       "      <th>2</th>\n",
       "      <td>10100</td>\n",
       "      <td>Micropolitan Statistical Area</td>\n",
       "      <td>Aberdeen, SD</td>\n",
       "      <td>57427</td>\n",
       "      <td>SD</td>\n",
       "      <td>226,508.3333</td>\n",
       "      <td>1,669.6043</td>\n",
       "      <td>42668</td>\n",
       "      <td>1,380.6240</td>\n",
       "    </tr>\n",
       "    <tr>\n",
       "      <th>3</th>\n",
       "      <td>10100</td>\n",
       "      <td>Micropolitan Statistical Area</td>\n",
       "      <td>Aberdeen, SD</td>\n",
       "      <td>57428</td>\n",
       "      <td>SD</td>\n",
       "      <td>65,125.6667</td>\n",
       "      <td>1,323.5861</td>\n",
       "      <td>42668</td>\n",
       "      <td>1,075.2647</td>\n",
       "    </tr>\n",
       "    <tr>\n",
       "      <th>4</th>\n",
       "      <td>10100</td>\n",
       "      <td>Micropolitan Statistical Area</td>\n",
       "      <td>Aberdeen, SD</td>\n",
       "      <td>57432</td>\n",
       "      <td>SD</td>\n",
       "      <td>115,267.5833</td>\n",
       "      <td>2,208.7741</td>\n",
       "      <td>42668</td>\n",
       "      <td>1,170.1404</td>\n",
       "    </tr>\n",
       "  </tbody>\n",
       "</table>\n",
       "</div>"
      ],
      "text/plain": [
       "    CBSA                      CBSA_type     CBSA_name zip_code state  \\\n",
       "0  10100  Micropolitan Statistical Area  Aberdeen, SD    57401    SD   \n",
       "1  10100  Micropolitan Statistical Area  Aberdeen, SD    57426    SD   \n",
       "2  10100  Micropolitan Statistical Area  Aberdeen, SD    57427    SD   \n",
       "3  10100  Micropolitan Statistical Area  Aberdeen, SD    57428    SD   \n",
       "4  10100  Micropolitan Statistical Area  Aberdeen, SD    57432    SD   \n",
       "\n",
       "   house_price  house_priceSD  pop_2019_est  predicted_rent  \n",
       "0 170,557.3333       813.8851         42668      1,274.7566  \n",
       "1 200,517.0000     4,954.6172         42668      1,331.4446  \n",
       "2 226,508.3333     1,669.6043         42668      1,380.6240  \n",
       "3  65,125.6667     1,323.5861         42668      1,075.2647  \n",
       "4 115,267.5833     2,208.7741         42668      1,170.1404  "
      ]
     },
     "execution_count": 233,
     "metadata": {},
     "output_type": "execute_result"
    }
   ],
   "source": [
    "new_states.head()"
   ]
  },
  {
   "cell_type": "code",
   "execution_count": 236,
   "metadata": {},
   "outputs": [
    {
     "name": "stderr",
     "output_type": "stream",
     "text": [
      "/usr/local/anaconda3/envs/py377_maps/lib/python3.7/site-packages/ipykernel_launcher.py:1: SettingWithCopyWarning: \n",
      "A value is trying to be set on a copy of a slice from a DataFrame.\n",
      "Try using .loc[row_indexer,col_indexer] = value instead\n",
      "\n",
      "See the caveats in the documentation: https://pandas.pydata.org/pandas-docs/stable/user_guide/indexing.html#returning-a-view-versus-a-copy\n",
      "  \"\"\"Entry point for launching an IPython kernel.\n"
     ]
    }
   ],
   "source": [
    "new_states['rent_pct'] = new_states['predicted_rent'] / new_states['house_price']"
   ]
  },
  {
   "cell_type": "code",
   "execution_count": 241,
   "metadata": {},
   "outputs": [],
   "source": [
    "new_states.to_csv('../data/rent_predictions_v2.tsv', sep='\\t')"
   ]
  },
  {
   "cell_type": "code",
   "execution_count": 235,
   "metadata": {
    "scrolled": true
   },
   "outputs": [
    {
     "data": {
      "text/plain": [
       "<matplotlib.axes._subplots.AxesSubplot at 0x7fc080880d90>"
      ]
     },
     "execution_count": 235,
     "metadata": {},
     "output_type": "execute_result"
    },
    {
     "data": {
      "image/png": "[encoded data removed]",
      "text/plain": [
       "<Figure size 432x288 with 1 Axes>"
      ]
     },
     "metadata": {},
     "output_type": "display_data"
    }
   ],
   "source": [
    "new_states['predicted_rent'].hist()"
   ]
  },
  {
   "cell_type": "code",
   "execution_count": 248,
   "metadata": {},
   "outputs": [
    {
     "data": {
      "image/png": "[encoded data removed]",
      "text/plain": [
       "<Figure size 1080x1080 with 25 Axes>"
      ]
     },
     "metadata": {},
     "output_type": "display_data"
    }
   ],
   "source": [
    "# what about with pop and house prices\n",
    "pd.plotting.scatter_matrix(new_states, figsize=(15,15));"
   ]
  },
  {
   "cell_type": "code",
   "execution_count": 137,
   "metadata": {},
   "outputs": [],
   "source": [
    "from scipy.stats import boxcox"
   ]
  },
  {
   "cell_type": "code",
   "execution_count": 155,
   "metadata": {},
   "outputs": [],
   "source": [
    "y_bc, y_lamb = boxcox(y)"
   ]
  },
  {
   "cell_type": "code",
   "execution_count": 158,
   "metadata": {
    "scrolled": true
   },
   "outputs": [
    {
     "data": {
      "text/plain": [
       "array([ 9.05710686,  9.63765446,  9.99711351, ..., 10.11496751,\n",
       "        9.47476505,  9.78342346])"
      ]
     },
     "execution_count": 158,
     "metadata": {},
     "output_type": "execute_result"
    }
   ],
   "source": [
    "y_bc"
   ]
  },
  {
   "cell_type": "code",
   "execution_count": 203,
   "metadata": {},
   "outputs": [
    {
     "data": {
      "text/plain": [
       "0.22703423641829498"
      ]
     },
     "execution_count": 203,
     "metadata": {},
     "output_type": "execute_result"
    }
   ],
   "source": [
    "lamb"
   ]
  },
  {
   "cell_type": "code",
   "execution_count": 159,
   "metadata": {},
   "outputs": [],
   "source": [
    "x_bc, lamb = boxcox(agg_zip['house_price'])"
   ]
  },
  {
   "cell_type": "code",
   "execution_count": 160,
   "metadata": {},
   "outputs": [
    {
     "data": {
      "text/plain": [
       "array([59.50028065, 69.40499544, 70.7471768 , ..., 70.59513402,\n",
       "       75.89978471, 68.60791883])"
      ]
     },
     "execution_count": 160,
     "metadata": {},
     "output_type": "execute_result"
    }
   ],
   "source": [
    "x_bc"
   ]
  },
  {
   "cell_type": "code",
   "execution_count": 145,
   "metadata": {},
   "outputs": [
    {
     "data": {
      "text/plain": [
       "numpy.ndarray"
      ]
     },
     "execution_count": 145,
     "metadata": {},
     "output_type": "execute_result"
    }
   ],
   "source": [
    "type(x_bc)"
   ]
  },
  {
   "cell_type": "code",
   "execution_count": 146,
   "metadata": {},
   "outputs": [
    {
     "data": {
      "text/plain": [
       "(3003,)"
      ]
     },
     "execution_count": 146,
     "metadata": {},
     "output_type": "execute_result"
    }
   ],
   "source": [
    "x_bc.shape"
   ]
  },
  {
   "cell_type": "code",
   "execution_count": 147,
   "metadata": {},
   "outputs": [
    {
     "data": {
      "text/plain": [
       "(3003,)"
      ]
     },
     "execution_count": 147,
     "metadata": {},
     "output_type": "execute_result"
    }
   ],
   "source": [
    "y.shape"
   ]
  },
  {
   "cell_type": "code",
   "execution_count": 148,
   "metadata": {},
   "outputs": [],
   "source": [
    "def prediction_arrays(x, y, split=0.25):\n",
    "    '''\n",
    "    inputs df, cols of predictors, and y response\n",
    "    runs model\n",
    "    returns model, residuals, yhat, X_train, y_train, X_test, y_test\n",
    "    '''\n",
    "    # default here is 25% in test\n",
    "    X_train, X_test, y_train, y_test = train_test_split(x.reshape(-1, 1), y, test_size=split) # split to test model\n",
    "    model = LinearRegression() # instantiate instance of class\n",
    "    model.fit(X_train, y_train) # fit model\n",
    "    yhat = model.predict(X_test) # use new data in X_test to predict y_test\n",
    "    residuals = y_test - yhat # calc residuals between model and actualy (y_test)\n",
    "    return model, residuals, yhat, X_train, y_train, X_test, y_test"
   ]
  },
  {
   "cell_type": "code",
   "execution_count": 161,
   "metadata": {},
   "outputs": [],
   "source": [
    "model, residuals, yhat, X_train, y_train, X_test, y_test = prediction_arrays(x_bc, y_bc)"
   ]
  },
  {
   "cell_type": "code",
   "execution_count": 162,
   "metadata": {},
   "outputs": [
    {
     "name": "stdout",
     "output_type": "stream",
     "text": [
      "explained_variance: 0.6617\n",
      "r2: 0.6616\n",
      "adj. r2: 0.6612\n",
      "MSE: 0.093\n",
      "RMSE: 0.305\n"
     ]
    }
   ],
   "source": [
    "explained_variance, mse, r2, adj_r2 = get_stats(X_test, y_test, yhat)"
   ]
  },
  {
   "cell_type": "code",
   "execution_count": 163,
   "metadata": {},
   "outputs": [
    {
     "data": {
      "text/plain": [
       "(<Figure size 720x576 with 1 Axes>,\n",
       " <matplotlib.axes._subplots.AxesSubplot at 0x7fc0936f1cd0>)"
      ]
     },
     "execution_count": 163,
     "metadata": {},
     "output_type": "execute_result"
    },
    {
     "data": {
      "image/png": "[encoded data removed]",
      "text/plain": [
       "<Figure size 720x576 with 1 Axes>"
      ]
     },
     "metadata": {},
     "output_type": "display_data"
    }
   ],
   "source": [
    "qqplot(residuals)"
   ]
  },
  {
   "cell_type": "code",
   "execution_count": 164,
   "metadata": {},
   "outputs": [
    {
     "data": {
      "text/plain": [
       "(<Figure size 720x576 with 1 Axes>,\n",
       " <matplotlib.axes._subplots.AxesSubplot at 0x7fc0928d1d50>)"
      ]
     },
     "execution_count": 164,
     "metadata": {},
     "output_type": "execute_result"
    },
    {
     "data": {
      "image/png": "[encoded data removed]",
      "text/plain": [
       "<Figure size 720x576 with 1 Axes>"
      ]
     },
     "metadata": {},
     "output_type": "display_data"
    }
   ],
   "source": [
    "plot_resid_fitted(yhat, residuals)"
   ]
  },
  {
   "cell_type": "code",
   "execution_count": 171,
   "metadata": {},
   "outputs": [],
   "source": [
    "cross_val_model = LinearRegression() \n",
    "result = cross_validate(cross_val_model, x_bc.reshape(-1, 1), y_bc) "
   ]
  },
  {
   "cell_type": "code",
   "execution_count": 172,
   "metadata": {},
   "outputs": [
    {
     "data": {
      "text/plain": [
       "0.6394337003214531"
      ]
     },
     "execution_count": 172,
     "metadata": {},
     "output_type": "execute_result"
    }
   ],
   "source": [
    "result['test_score'].mean()"
   ]
  },
  {
   "cell_type": "code",
   "execution_count": 216,
   "metadata": {},
   "outputs": [
    {
     "name": "stderr",
     "output_type": "stream",
     "text": [
      "/usr/local/anaconda3/envs/py377_maps/lib/python3.7/site-packages/IPython/core/interactiveshell.py:3072: DtypeWarning: Columns (12,18,23) have mixed types.Specify dtype option on import or set low_memory=False.\n",
      "  interactivity=interactivity, compiler=compiler, result=result)\n"
     ]
    }
   ],
   "source": [
    "predict_data = pd.read_csv('../data/HOUSE_prices_CBSA_vaca_construction_pop.csv')"
   ]
  },
  {
   "cell_type": "code",
   "execution_count": 217,
   "metadata": {},
   "outputs": [],
   "source": [
    "dataobj = data_un_Agg_no_rent(predict_data, 2019)"
   ]
  },
  {
   "cell_type": "code",
   "execution_count": 218,
   "metadata": {},
   "outputs": [],
   "source": [
    "predict_agg_zip = dataobj.agg_by_zip()"
   ]
  },
  {
   "cell_type": "code",
   "execution_count": 219,
   "metadata": {},
   "outputs": [
    {
     "data": {
      "text/html": [
       "<div>\n",
       "<style scoped>\n",
       "    .dataframe tbody tr th:only-of-type {\n",
       "        vertical-align: middle;\n",
       "    }\n",
       "\n",
       "    .dataframe tbody tr th {\n",
       "        vertical-align: top;\n",
       "    }\n",
       "\n",
       "    .dataframe thead th {\n",
       "        text-align: right;\n",
       "    }\n",
       "</style>\n",
       "<table border=\"1\" class=\"dataframe\">\n",
       "  <thead>\n",
       "    <tr style=\"text-align: right;\">\n",
       "      <th></th>\n",
       "      <th>CBSA</th>\n",
       "      <th>CBSA_type</th>\n",
       "      <th>CBSA_name</th>\n",
       "      <th>zip_code</th>\n",
       "      <th>state</th>\n",
       "      <th>house_price</th>\n",
       "      <th>house_priceSD</th>\n",
       "      <th>pop_2019_est</th>\n",
       "    </tr>\n",
       "  </thead>\n",
       "  <tbody>\n",
       "    <tr>\n",
       "      <th>0</th>\n",
       "      <td>10100</td>\n",
       "      <td>Micropolitan Statistical Area</td>\n",
       "      <td>Aberdeen, SD</td>\n",
       "      <td>57401</td>\n",
       "      <td>SD</td>\n",
       "      <td>170,557.3333</td>\n",
       "      <td>813.8851</td>\n",
       "      <td>42668</td>\n",
       "    </tr>\n",
       "    <tr>\n",
       "      <th>1</th>\n",
       "      <td>10100</td>\n",
       "      <td>Micropolitan Statistical Area</td>\n",
       "      <td>Aberdeen, SD</td>\n",
       "      <td>57426</td>\n",
       "      <td>SD</td>\n",
       "      <td>200,517.0000</td>\n",
       "      <td>4,954.6172</td>\n",
       "      <td>42668</td>\n",
       "    </tr>\n",
       "    <tr>\n",
       "      <th>2</th>\n",
       "      <td>10100</td>\n",
       "      <td>Micropolitan Statistical Area</td>\n",
       "      <td>Aberdeen, SD</td>\n",
       "      <td>57427</td>\n",
       "      <td>SD</td>\n",
       "      <td>226,508.3333</td>\n",
       "      <td>1,669.6043</td>\n",
       "      <td>42668</td>\n",
       "    </tr>\n",
       "    <tr>\n",
       "      <th>3</th>\n",
       "      <td>10100</td>\n",
       "      <td>Micropolitan Statistical Area</td>\n",
       "      <td>Aberdeen, SD</td>\n",
       "      <td>57428</td>\n",
       "      <td>SD</td>\n",
       "      <td>65,125.6667</td>\n",
       "      <td>1,323.5861</td>\n",
       "      <td>42668</td>\n",
       "    </tr>\n",
       "    <tr>\n",
       "      <th>4</th>\n",
       "      <td>10100</td>\n",
       "      <td>Micropolitan Statistical Area</td>\n",
       "      <td>Aberdeen, SD</td>\n",
       "      <td>57432</td>\n",
       "      <td>SD</td>\n",
       "      <td>115,267.5833</td>\n",
       "      <td>2,208.7741</td>\n",
       "      <td>42668</td>\n",
       "    </tr>\n",
       "    <tr>\n",
       "      <th>...</th>\n",
       "      <td>...</td>\n",
       "      <td>...</td>\n",
       "      <td>...</td>\n",
       "      <td>...</td>\n",
       "      <td>...</td>\n",
       "      <td>...</td>\n",
       "      <td>...</td>\n",
       "      <td>...</td>\n",
       "    </tr>\n",
       "    <tr>\n",
       "      <th>28821</th>\n",
       "      <td>49820</td>\n",
       "      <td>Micropolitan Statistical Area</td>\n",
       "      <td>Zapata, TX</td>\n",
       "      <td>78067</td>\n",
       "      <td>TX</td>\n",
       "      <td>64,166.7500</td>\n",
       "      <td>532.7244</td>\n",
       "      <td>14179</td>\n",
       "    </tr>\n",
       "    <tr>\n",
       "      <th>28822</th>\n",
       "      <td>49820</td>\n",
       "      <td>Micropolitan Statistical Area</td>\n",
       "      <td>Zapata, TX</td>\n",
       "      <td>78076</td>\n",
       "      <td>TX</td>\n",
       "      <td>98,828.2500</td>\n",
       "      <td>822.1900</td>\n",
       "      <td>14179</td>\n",
       "    </tr>\n",
       "    <tr>\n",
       "      <th>28823</th>\n",
       "      <td>49820</td>\n",
       "      <td>Micropolitan Statistical Area</td>\n",
       "      <td>Zapata, TX</td>\n",
       "      <td>78361</td>\n",
       "      <td>TX</td>\n",
       "      <td>121,207.8333</td>\n",
       "      <td>3,167.1187</td>\n",
       "      <td>14179</td>\n",
       "    </tr>\n",
       "    <tr>\n",
       "      <th>28824</th>\n",
       "      <td>49820</td>\n",
       "      <td>Micropolitan Statistical Area</td>\n",
       "      <td>Zapata, TX</td>\n",
       "      <td>78564</td>\n",
       "      <td>TX</td>\n",
       "      <td>81,951.0000</td>\n",
       "      <td>1,301.7502</td>\n",
       "      <td>14179</td>\n",
       "    </tr>\n",
       "    <tr>\n",
       "      <th>28825</th>\n",
       "      <td>49820</td>\n",
       "      <td>Micropolitan Statistical Area</td>\n",
       "      <td>Zapata, TX</td>\n",
       "      <td>78584</td>\n",
       "      <td>TX</td>\n",
       "      <td>56,870.9167</td>\n",
       "      <td>370.5187</td>\n",
       "      <td>14179</td>\n",
       "    </tr>\n",
       "  </tbody>\n",
       "</table>\n",
       "<p>28826 rows × 8 columns</p>\n",
       "</div>"
      ],
      "text/plain": [
       "        CBSA                      CBSA_type     CBSA_name zip_code state  \\\n",
       "0      10100  Micropolitan Statistical Area  Aberdeen, SD    57401    SD   \n",
       "1      10100  Micropolitan Statistical Area  Aberdeen, SD    57426    SD   \n",
       "2      10100  Micropolitan Statistical Area  Aberdeen, SD    57427    SD   \n",
       "3      10100  Micropolitan Statistical Area  Aberdeen, SD    57428    SD   \n",
       "4      10100  Micropolitan Statistical Area  Aberdeen, SD    57432    SD   \n",
       "...      ...                            ...           ...      ...   ...   \n",
       "28821  49820  Micropolitan Statistical Area    Zapata, TX    78067    TX   \n",
       "28822  49820  Micropolitan Statistical Area    Zapata, TX    78076    TX   \n",
       "28823  49820  Micropolitan Statistical Area    Zapata, TX    78361    TX   \n",
       "28824  49820  Micropolitan Statistical Area    Zapata, TX    78564    TX   \n",
       "28825  49820  Micropolitan Statistical Area    Zapata, TX    78584    TX   \n",
       "\n",
       "       house_price  house_priceSD  pop_2019_est  \n",
       "0     170,557.3333       813.8851         42668  \n",
       "1     200,517.0000     4,954.6172         42668  \n",
       "2     226,508.3333     1,669.6043         42668  \n",
       "3      65,125.6667     1,323.5861         42668  \n",
       "4     115,267.5833     2,208.7741         42668  \n",
       "...            ...            ...           ...  \n",
       "28821  64,166.7500       532.7244         14179  \n",
       "28822  98,828.2500       822.1900         14179  \n",
       "28823 121,207.8333     3,167.1187         14179  \n",
       "28824  81,951.0000     1,301.7502         14179  \n",
       "28825  56,870.9167       370.5187         14179  \n",
       "\n",
       "[28826 rows x 8 columns]"
      ]
     },
     "execution_count": 219,
     "metadata": {},
     "output_type": "execute_result"
    }
   ],
   "source": [
    "predict_agg_zip.df"
   ]
  },
  {
   "cell_type": "code",
   "execution_count": 220,
   "metadata": {},
   "outputs": [
    {
     "data": {
      "text/plain": [
       "array(['AK', 'AL', 'AR', 'AZ', 'CA', 'CO', 'CT', 'DC', 'DE', 'FL', 'GA',\n",
       "       'HI', 'IA', 'ID', 'IL', 'IN', 'KS', 'KY', 'LA', 'MA', 'MD', 'ME',\n",
       "       'MI', 'MN', 'MO', 'MS', 'MT', 'NC', 'ND', 'NE', 'NH', 'NJ', 'NM',\n",
       "       'NV', 'NY', 'OH', 'OK', 'OR', 'PA', 'RI', 'SC', 'SD', 'TN', 'TX',\n",
       "       'UT', 'VA', 'VT', 'WA', 'WI', 'WV', 'WY'], dtype=object)"
      ]
     },
     "execution_count": 220,
     "metadata": {},
     "output_type": "execute_result"
    }
   ],
   "source": [
    "predict_agg_zip.df['state'].sort_values().unique()"
   ]
  },
  {
   "cell_type": "code",
   "execution_count": 221,
   "metadata": {},
   "outputs": [],
   "source": [
    "# sort for states not in the fit set\n",
    "predict_agg_zip_df = predict_agg_zip.df\n",
    "new_states = predict_agg_zip_df[~predict_agg_zip_df['state'].isin(states)]"
   ]
  },
  {
   "cell_type": "code",
   "execution_count": 222,
   "metadata": {},
   "outputs": [
    {
     "data": {
      "text/html": [
       "<div>\n",
       "<style scoped>\n",
       "    .dataframe tbody tr th:only-of-type {\n",
       "        vertical-align: middle;\n",
       "    }\n",
       "\n",
       "    .dataframe tbody tr th {\n",
       "        vertical-align: top;\n",
       "    }\n",
       "\n",
       "    .dataframe thead th {\n",
       "        text-align: right;\n",
       "    }\n",
       "</style>\n",
       "<table border=\"1\" class=\"dataframe\">\n",
       "  <thead>\n",
       "    <tr style=\"text-align: right;\">\n",
       "      <th></th>\n",
       "      <th>CBSA</th>\n",
       "      <th>CBSA_type</th>\n",
       "      <th>CBSA_name</th>\n",
       "      <th>zip_code</th>\n",
       "      <th>state</th>\n",
       "      <th>house_price</th>\n",
       "      <th>house_priceSD</th>\n",
       "      <th>pop_2019_est</th>\n",
       "    </tr>\n",
       "  </thead>\n",
       "  <tbody>\n",
       "    <tr>\n",
       "      <th>0</th>\n",
       "      <td>10100</td>\n",
       "      <td>Micropolitan Statistical Area</td>\n",
       "      <td>Aberdeen, SD</td>\n",
       "      <td>57401</td>\n",
       "      <td>SD</td>\n",
       "      <td>170,557.3333</td>\n",
       "      <td>813.8851</td>\n",
       "      <td>42668</td>\n",
       "    </tr>\n",
       "    <tr>\n",
       "      <th>1</th>\n",
       "      <td>10100</td>\n",
       "      <td>Micropolitan Statistical Area</td>\n",
       "      <td>Aberdeen, SD</td>\n",
       "      <td>57426</td>\n",
       "      <td>SD</td>\n",
       "      <td>200,517.0000</td>\n",
       "      <td>4,954.6172</td>\n",
       "      <td>42668</td>\n",
       "    </tr>\n",
       "    <tr>\n",
       "      <th>2</th>\n",
       "      <td>10100</td>\n",
       "      <td>Micropolitan Statistical Area</td>\n",
       "      <td>Aberdeen, SD</td>\n",
       "      <td>57427</td>\n",
       "      <td>SD</td>\n",
       "      <td>226,508.3333</td>\n",
       "      <td>1,669.6043</td>\n",
       "      <td>42668</td>\n",
       "    </tr>\n",
       "    <tr>\n",
       "      <th>3</th>\n",
       "      <td>10100</td>\n",
       "      <td>Micropolitan Statistical Area</td>\n",
       "      <td>Aberdeen, SD</td>\n",
       "      <td>57428</td>\n",
       "      <td>SD</td>\n",
       "      <td>65,125.6667</td>\n",
       "      <td>1,323.5861</td>\n",
       "      <td>42668</td>\n",
       "    </tr>\n",
       "    <tr>\n",
       "      <th>4</th>\n",
       "      <td>10100</td>\n",
       "      <td>Micropolitan Statistical Area</td>\n",
       "      <td>Aberdeen, SD</td>\n",
       "      <td>57432</td>\n",
       "      <td>SD</td>\n",
       "      <td>115,267.5833</td>\n",
       "      <td>2,208.7741</td>\n",
       "      <td>42668</td>\n",
       "    </tr>\n",
       "  </tbody>\n",
       "</table>\n",
       "</div>"
      ],
      "text/plain": [
       "    CBSA                      CBSA_type     CBSA_name zip_code state  \\\n",
       "0  10100  Micropolitan Statistical Area  Aberdeen, SD    57401    SD   \n",
       "1  10100  Micropolitan Statistical Area  Aberdeen, SD    57426    SD   \n",
       "2  10100  Micropolitan Statistical Area  Aberdeen, SD    57427    SD   \n",
       "3  10100  Micropolitan Statistical Area  Aberdeen, SD    57428    SD   \n",
       "4  10100  Micropolitan Statistical Area  Aberdeen, SD    57432    SD   \n",
       "\n",
       "   house_price  house_priceSD  pop_2019_est  \n",
       "0 170,557.3333       813.8851         42668  \n",
       "1 200,517.0000     4,954.6172         42668  \n",
       "2 226,508.3333     1,669.6043         42668  \n",
       "3  65,125.6667     1,323.5861         42668  \n",
       "4 115,267.5833     2,208.7741         42668  "
      ]
     },
     "execution_count": 222,
     "metadata": {},
     "output_type": "execute_result"
    }
   ],
   "source": [
    "new_states.head()"
   ]
  },
  {
   "cell_type": "code",
   "execution_count": 188,
   "metadata": {},
   "outputs": [],
   "source": [
    "new_states_bc, _ = boxcox(new_states['house_price'])"
   ]
  },
  {
   "cell_type": "code",
   "execution_count": 190,
   "metadata": {},
   "outputs": [],
   "source": [
    "new_states_bc_rent_predict = model.predict(new_states_bc.reshape(-1,1))"
   ]
  },
  {
   "cell_type": "code",
   "execution_count": 192,
   "metadata": {},
   "outputs": [
    {
     "data": {
      "text/plain": [
       "(1404,)"
      ]
     },
     "execution_count": 192,
     "metadata": {},
     "output_type": "execute_result"
    }
   ],
   "source": [
    "new_states_bc_rent_predict.shape"
   ]
  },
  {
   "cell_type": "code",
   "execution_count": 193,
   "metadata": {},
   "outputs": [
    {
     "data": {
      "text/plain": [
       "(1404, 8)"
      ]
     },
     "execution_count": 193,
     "metadata": {},
     "output_type": "execute_result"
    }
   ],
   "source": [
    "new_states.shape"
   ]
  },
  {
   "cell_type": "code",
   "execution_count": 196,
   "metadata": {},
   "outputs": [
    {
     "data": {
      "text/plain": [
       "0.18241529793659156"
      ]
     },
     "execution_count": 196,
     "metadata": {},
     "output_type": "execute_result"
    }
   ],
   "source": [
    "_"
   ]
  },
  {
   "cell_type": "code",
   "execution_count": 197,
   "metadata": {},
   "outputs": [],
   "source": [
    "# transform back to original units\n",
    "from scipy.special import inv_boxcox\n",
    "y_pred_rent = inv_boxcox(new_states_bc_rent_predict, _)"
   ]
  },
  {
   "cell_type": "code",
   "execution_count": 199,
   "metadata": {},
   "outputs": [
    {
     "data": {
      "text/plain": [
       "277.9136299018811"
      ]
     },
     "execution_count": 199,
     "metadata": {},
     "output_type": "execute_result"
    }
   ],
   "source": [
    "y_pred_rent.max()"
   ]
  },
  {
   "cell_type": "code",
   "execution_count": 200,
   "metadata": {},
   "outputs": [
    {
     "name": "stderr",
     "output_type": "stream",
     "text": [
      "/usr/local/anaconda3/envs/py377_maps/lib/python3.7/site-packages/ipykernel_launcher.py:1: SettingWithCopyWarning: \n",
      "A value is trying to be set on a copy of a slice from a DataFrame.\n",
      "Try using .loc[row_indexer,col_indexer] = value instead\n",
      "\n",
      "See the caveats in the documentation: https://pandas.pydata.org/pandas-docs/stable/user_guide/indexing.html#returning-a-view-versus-a-copy\n",
      "  \"\"\"Entry point for launching an IPython kernel.\n"
     ]
    }
   ],
   "source": [
    "new_states['predicted_rent'] = y_pred_rent"
   ]
  },
  {
   "cell_type": "code",
   "execution_count": 201,
   "metadata": {},
   "outputs": [
    {
     "data": {
      "text/html": [
       "<div>\n",
       "<style scoped>\n",
       "    .dataframe tbody tr th:only-of-type {\n",
       "        vertical-align: middle;\n",
       "    }\n",
       "\n",
       "    .dataframe tbody tr th {\n",
       "        vertical-align: top;\n",
       "    }\n",
       "\n",
       "    .dataframe thead th {\n",
       "        text-align: right;\n",
       "    }\n",
       "</style>\n",
       "<table border=\"1\" class=\"dataframe\">\n",
       "  <thead>\n",
       "    <tr style=\"text-align: right;\">\n",
       "      <th></th>\n",
       "      <th>CBSA</th>\n",
       "      <th>CBSA_type</th>\n",
       "      <th>CBSA_name</th>\n",
       "      <th>zip_code</th>\n",
       "      <th>state</th>\n",
       "      <th>house_price</th>\n",
       "      <th>house_priceSD</th>\n",
       "      <th>pop_2019_est</th>\n",
       "      <th>predicted_rent</th>\n",
       "    </tr>\n",
       "  </thead>\n",
       "  <tbody>\n",
       "    <tr>\n",
       "      <th>0</th>\n",
       "      <td>10100</td>\n",
       "      <td>Micropolitan Statistical Area</td>\n",
       "      <td>Aberdeen, SD</td>\n",
       "      <td>57401</td>\n",
       "      <td>SD</td>\n",
       "      <td>170,557.3333</td>\n",
       "      <td>813.8851</td>\n",
       "      <td>42668</td>\n",
       "      <td>187.4166</td>\n",
       "    </tr>\n",
       "    <tr>\n",
       "      <th>1</th>\n",
       "      <td>10100</td>\n",
       "      <td>Micropolitan Statistical Area</td>\n",
       "      <td>Aberdeen, SD</td>\n",
       "      <td>57426</td>\n",
       "      <td>SD</td>\n",
       "      <td>200,517.0000</td>\n",
       "      <td>4,954.6172</td>\n",
       "      <td>42668</td>\n",
       "      <td>192.0259</td>\n",
       "    </tr>\n",
       "    <tr>\n",
       "      <th>2</th>\n",
       "      <td>10100</td>\n",
       "      <td>Micropolitan Statistical Area</td>\n",
       "      <td>Aberdeen, SD</td>\n",
       "      <td>57427</td>\n",
       "      <td>SD</td>\n",
       "      <td>226,508.3333</td>\n",
       "      <td>1,669.6043</td>\n",
       "      <td>42668</td>\n",
       "      <td>195.6515</td>\n",
       "    </tr>\n",
       "    <tr>\n",
       "      <th>3</th>\n",
       "      <td>10100</td>\n",
       "      <td>Micropolitan Statistical Area</td>\n",
       "      <td>Aberdeen, SD</td>\n",
       "      <td>57428</td>\n",
       "      <td>SD</td>\n",
       "      <td>65,125.6667</td>\n",
       "      <td>1,323.5861</td>\n",
       "      <td>42668</td>\n",
       "      <td>164.1598</td>\n",
       "    </tr>\n",
       "    <tr>\n",
       "      <th>4</th>\n",
       "      <td>10100</td>\n",
       "      <td>Micropolitan Statistical Area</td>\n",
       "      <td>Aberdeen, SD</td>\n",
       "      <td>57432</td>\n",
       "      <td>SD</td>\n",
       "      <td>115,267.5833</td>\n",
       "      <td>2,208.7741</td>\n",
       "      <td>42668</td>\n",
       "      <td>177.1475</td>\n",
       "    </tr>\n",
       "  </tbody>\n",
       "</table>\n",
       "</div>"
      ],
      "text/plain": [
       "    CBSA                      CBSA_type     CBSA_name zip_code state  \\\n",
       "0  10100  Micropolitan Statistical Area  Aberdeen, SD    57401    SD   \n",
       "1  10100  Micropolitan Statistical Area  Aberdeen, SD    57426    SD   \n",
       "2  10100  Micropolitan Statistical Area  Aberdeen, SD    57427    SD   \n",
       "3  10100  Micropolitan Statistical Area  Aberdeen, SD    57428    SD   \n",
       "4  10100  Micropolitan Statistical Area  Aberdeen, SD    57432    SD   \n",
       "\n",
       "   house_price  house_priceSD  pop_2019_est  predicted_rent  \n",
       "0 170,557.3333       813.8851         42668        187.4166  \n",
       "1 200,517.0000     4,954.6172         42668        192.0259  \n",
       "2 226,508.3333     1,669.6043         42668        195.6515  \n",
       "3  65,125.6667     1,323.5861         42668        164.1598  \n",
       "4 115,267.5833     2,208.7741         42668        177.1475  "
      ]
     },
     "execution_count": 201,
     "metadata": {},
     "output_type": "execute_result"
    }
   ],
   "source": [
    "new_states.head()"
   ]
  },
  {
   "cell_type": "code",
   "execution_count": 202,
   "metadata": {},
   "outputs": [],
   "source": [
    "new_states.to_csv('../data/rent_predictions_v1.csv')"
   ]
  },
  {
   "cell_type": "code",
   "execution_count": null,
   "metadata": {},
   "outputs": [],
   "source": []
  }
 ],
 "metadata": {
  "kernelspec": {
   "display_name": "Python [conda env:py377_maps]",
   "language": "python",
   "name": "conda-env-py377_maps-py"
  },
  "language_info": {
   "codemirror_mode": {
    "name": "ipython",
    "version": 3
   },
   "file_extension": ".py",
   "mimetype": "text/x-python",
   "name": "python",
   "nbconvert_exporter": "python",
   "pygments_lexer": "ipython3",
   "version": "3.7.7"
  }
 },
 "nbformat": 4,
 "nbformat_minor": 4
}
